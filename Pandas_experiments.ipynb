{
 "cells": [
  {
   "cell_type": "code",
   "execution_count": 2,
   "metadata": {},
   "outputs": [],
   "source": [
    "import pandas as pd\n",
    "import numpy as np\n",
    "\n",
    "from scipy.signal import welch"
   ]
  },
  {
   "cell_type": "code",
   "execution_count": 2,
   "metadata": {},
   "outputs": [
    {
     "data": {
      "text/html": [
       "<div>\n",
       "<style scoped>\n",
       "    .dataframe tbody tr th:only-of-type {\n",
       "        vertical-align: middle;\n",
       "    }\n",
       "\n",
       "    .dataframe tbody tr th {\n",
       "        vertical-align: top;\n",
       "    }\n",
       "\n",
       "    .dataframe thead th {\n",
       "        text-align: right;\n",
       "    }\n",
       "</style>\n",
       "<table border=\"1\" class=\"dataframe\">\n",
       "  <thead>\n",
       "    <tr style=\"text-align: right;\">\n",
       "      <th></th>\n",
       "      <th>Animal</th>\n",
       "      <th>Max Speed</th>\n",
       "    </tr>\n",
       "  </thead>\n",
       "  <tbody>\n",
       "    <tr>\n",
       "      <th>0</th>\n",
       "      <td>Falcon</td>\n",
       "      <td>380.0</td>\n",
       "    </tr>\n",
       "    <tr>\n",
       "      <th>1</th>\n",
       "      <td>Falcon</td>\n",
       "      <td>370.0</td>\n",
       "    </tr>\n",
       "  </tbody>\n",
       "</table>\n",
       "</div>"
      ],
      "text/plain": [
       "   Animal  Max Speed\n",
       "0  Falcon      380.0\n",
       "1  Falcon      370.0"
      ]
     },
     "execution_count": 2,
     "metadata": {},
     "output_type": "execute_result"
    }
   ],
   "source": [
    "df = pd.DataFrame({'Animal': ['Falcon', 'Falcon'],\n",
    "                   'Max Speed': [380., 370.]})\n",
    "\n",
    "df"
   ]
  },
  {
   "cell_type": "code",
   "execution_count": 3,
   "metadata": {},
   "outputs": [],
   "source": [
    "grouped = df.groupby(\"Animal\")"
   ]
  },
  {
   "cell_type": "code",
   "execution_count": 4,
   "metadata": {},
   "outputs": [
    {
     "data": {
      "text/html": [
       "<div>\n",
       "<style scoped>\n",
       "    .dataframe tbody tr th:only-of-type {\n",
       "        vertical-align: middle;\n",
       "    }\n",
       "\n",
       "    .dataframe tbody tr th {\n",
       "        vertical-align: top;\n",
       "    }\n",
       "\n",
       "    .dataframe thead th {\n",
       "        text-align: right;\n",
       "    }\n",
       "</style>\n",
       "<table border=\"1\" class=\"dataframe\">\n",
       "  <thead>\n",
       "    <tr style=\"text-align: right;\">\n",
       "      <th></th>\n",
       "      <th>Animal</th>\n",
       "      <th>Max Speed</th>\n",
       "    </tr>\n",
       "  </thead>\n",
       "  <tbody>\n",
       "    <tr>\n",
       "      <th>0</th>\n",
       "      <td>Falcon</td>\n",
       "      <td>380.0</td>\n",
       "    </tr>\n",
       "    <tr>\n",
       "      <th>1</th>\n",
       "      <td>Falcon</td>\n",
       "      <td>370.0</td>\n",
       "    </tr>\n",
       "  </tbody>\n",
       "</table>\n",
       "</div>"
      ],
      "text/plain": [
       "   Animal  Max Speed\n",
       "0  Falcon      380.0\n",
       "1  Falcon      370.0"
      ]
     },
     "execution_count": 4,
     "metadata": {},
     "output_type": "execute_result"
    }
   ],
   "source": [
    "grouped.get_group(\"Falcon\")"
   ]
  },
  {
   "cell_type": "code",
   "execution_count": 5,
   "metadata": {},
   "outputs": [
    {
     "data": {
      "text/plain": [
       "{'Falcon': Int64Index([0, 1], dtype='int64')}"
      ]
     },
     "execution_count": 5,
     "metadata": {},
     "output_type": "execute_result"
    }
   ],
   "source": [
    "grouped.groups"
   ]
  },
  {
   "cell_type": "code",
   "execution_count": 6,
   "metadata": {},
   "outputs": [
    {
     "data": {
      "text/plain": [
       "0    Falcon\n",
       "1    Falcon\n",
       "Name: Animal, dtype: object"
      ]
     },
     "execution_count": 6,
     "metadata": {},
     "output_type": "execute_result"
    }
   ],
   "source": [
    "df[\"Animal\"]"
   ]
  },
  {
   "cell_type": "code",
   "execution_count": 7,
   "metadata": {},
   "outputs": [
    {
     "data": {
      "text/html": [
       "<div>\n",
       "<style scoped>\n",
       "    .dataframe tbody tr th:only-of-type {\n",
       "        vertical-align: middle;\n",
       "    }\n",
       "\n",
       "    .dataframe tbody tr th {\n",
       "        vertical-align: top;\n",
       "    }\n",
       "\n",
       "    .dataframe thead th {\n",
       "        text-align: right;\n",
       "    }\n",
       "</style>\n",
       "<table border=\"1\" class=\"dataframe\">\n",
       "  <thead>\n",
       "    <tr style=\"text-align: right;\">\n",
       "      <th></th>\n",
       "      <th>s1</th>\n",
       "      <th>s2</th>\n",
       "    </tr>\n",
       "  </thead>\n",
       "  <tbody>\n",
       "    <tr>\n",
       "      <th>A</th>\n",
       "      <td>1</td>\n",
       "      <td>3.0</td>\n",
       "    </tr>\n",
       "    <tr>\n",
       "      <th>B</th>\n",
       "      <td>2</td>\n",
       "      <td>4.0</td>\n",
       "    </tr>\n",
       "    <tr>\n",
       "      <th>C</th>\n",
       "      <td>5</td>\n",
       "      <td>NaN</td>\n",
       "    </tr>\n",
       "  </tbody>\n",
       "</table>\n",
       "</div>"
      ],
      "text/plain": [
       "   s1   s2\n",
       "A   1  3.0\n",
       "B   2  4.0\n",
       "C   5  NaN"
      ]
     },
     "execution_count": 7,
     "metadata": {},
     "output_type": "execute_result"
    }
   ],
   "source": [
    "s1 = pd.Series([1, 2, 5], index=['A', 'B', 'C'], name='s1')\n",
    "s2 = pd.Series([3, 4], index=['A', 'B'], name='s2')\n",
    "\n",
    "pd.concat([s1, s2], axis=1)"
   ]
  },
  {
   "cell_type": "code",
   "execution_count": 3,
   "metadata": {},
   "outputs": [
    {
     "name": "stdout",
     "output_type": "stream",
     "text": [
      "2000-01-01 00:00:00    0\n",
      "2000-01-01 01:00:00    1\n",
      "2000-01-01 02:00:00    2\n",
      "2000-01-01 03:00:00    3\n",
      "2000-01-01 04:00:00    4\n",
      "2000-01-01 05:00:00    5\n",
      "2000-01-01 06:00:00    6\n",
      "2000-01-01 07:00:00    7\n",
      "2000-01-01 08:00:00    8\n",
      "Freq: 60T, dtype: int64\n",
      "2000-01-01 00:00:00    0\n",
      "2000-01-01 01:00:00    1\n",
      "2000-01-01 03:00:00    3\n",
      "2000-01-01 04:00:00    4\n",
      "2000-01-01 05:00:00    5\n",
      "2000-01-01 06:00:00    6\n",
      "2000-01-01 07:00:00    7\n",
      "2000-01-01 08:00:00    8\n",
      "dtype: int64\n"
     ]
    },
    {
     "data": {
      "text/plain": [
       "7.928571428571429"
      ]
     },
     "execution_count": 3,
     "metadata": {},
     "output_type": "execute_result"
    }
   ],
   "source": [
    "series = pd.Series(range(9), index=pd.date_range('1/1/2000', periods=9, freq='60T'))\n",
    "print(series)\n",
    "\n",
    "series.drop(series.index[2], inplace=True)\n",
    "print(series)\n",
    "\n",
    "#resampled = series.resample('60T').first()\n",
    "#print(resampled)\n",
    "\n",
    "series.var()"
   ]
  },
  {
   "cell_type": "code",
   "execution_count": 29,
   "metadata": {},
   "outputs": [
    {
     "name": "stdout",
     "output_type": "stream",
     "text": [
      "(array([0.        , 0.11111111, 0.22222222, 0.33333333, 0.44444444]), array([nan, nan, nan, nan, nan]))\n"
     ]
    },
    {
     "name": "stderr",
     "output_type": "stream",
     "text": [
      "/home/olh001/data/ppp4/anaconda3/envs/py38/lib/python3.8/site-packages/scipy/signal/spectral.py:1964: UserWarning: nperseg = 256 is greater than input length  = 9, using nperseg = 9\n",
      "  warnings.warn('nperseg = {0:d} is greater than input length '\n"
     ]
    },
    {
     "data": {
      "text/plain": [
       "<matplotlib.axes._subplots.AxesSubplot at 0x2ac3907bda60>"
      ]
     },
     "execution_count": 29,
     "metadata": {},
     "output_type": "execute_result"
    },
    {
     "data": {
      "image/png": "[encoded data removed]",
      "text/plain": [
       "<Figure size 432x288 with 1 Axes>"
      ]
     },
     "metadata": {
      "needs_background": "light"
     },
     "output_type": "display_data"
    }
   ],
   "source": [
    "series1 = pd.Series(range(300), index=pd.date_range('1/1/2000', periods=300, freq='60T'))\n",
    "s = pd.Series([np.nan, 2, np.nan,\n",
    "               5, np.nan, np.nan, np.nan,\n",
    "               4.71, np.nan], index=pd.date_range('1/1/2000', periods=9, freq='60T')).asfreq('60T')\n",
    "\n",
    "s.interpolate(method=\"linear\", inplace=True)\n",
    "s.plot(kind=\"line\")"
   ]
  },
  {
   "cell_type": "code",
   "execution_count": 20,
   "metadata": {},
   "outputs": [
    {
     "data": {
      "text/plain": [
       "(array([0.        , 0.00390625, 0.0078125 , 0.01171875, 0.015625  ,\n",
       "        0.01953125, 0.0234375 , 0.02734375, 0.03125   , 0.03515625,\n",
       "        0.0390625 , 0.04296875, 0.046875  , 0.05078125, 0.0546875 ,\n",
       "        0.05859375, 0.0625    , 0.06640625, 0.0703125 , 0.07421875,\n",
       "        0.078125  , 0.08203125, 0.0859375 , 0.08984375, 0.09375   ,\n",
       "        0.09765625, 0.1015625 , 0.10546875, 0.109375  , 0.11328125,\n",
       "        0.1171875 , 0.12109375, 0.125     , 0.12890625, 0.1328125 ,\n",
       "        0.13671875, 0.140625  , 0.14453125, 0.1484375 , 0.15234375,\n",
       "        0.15625   , 0.16015625, 0.1640625 , 0.16796875, 0.171875  ,\n",
       "        0.17578125, 0.1796875 , 0.18359375, 0.1875    , 0.19140625,\n",
       "        0.1953125 , 0.19921875, 0.203125  , 0.20703125, 0.2109375 ,\n",
       "        0.21484375, 0.21875   , 0.22265625, 0.2265625 , 0.23046875,\n",
       "        0.234375  , 0.23828125, 0.2421875 , 0.24609375, 0.25      ,\n",
       "        0.25390625, 0.2578125 , 0.26171875, 0.265625  , 0.26953125,\n",
       "        0.2734375 , 0.27734375, 0.28125   , 0.28515625, 0.2890625 ,\n",
       "        0.29296875, 0.296875  , 0.30078125, 0.3046875 , 0.30859375,\n",
       "        0.3125    , 0.31640625, 0.3203125 , 0.32421875, 0.328125  ,\n",
       "        0.33203125, 0.3359375 , 0.33984375, 0.34375   , 0.34765625,\n",
       "        0.3515625 , 0.35546875, 0.359375  , 0.36328125, 0.3671875 ,\n",
       "        0.37109375, 0.375     , 0.37890625, 0.3828125 , 0.38671875,\n",
       "        0.390625  , 0.39453125, 0.3984375 , 0.40234375, 0.40625   ,\n",
       "        0.41015625, 0.4140625 , 0.41796875, 0.421875  , 0.42578125,\n",
       "        0.4296875 , 0.43359375, 0.4375    , 0.44140625, 0.4453125 ,\n",
       "        0.44921875, 0.453125  , 0.45703125, 0.4609375 , 0.46484375,\n",
       "        0.46875   , 0.47265625, 0.4765625 , 0.48046875, 0.484375  ,\n",
       "        0.48828125, 0.4921875 , 0.49609375, 0.5       ]),\n",
       " array([4.26666667e+01, 3.18750219e+05, 1.57396974e+04, 9.83730910e+02,\n",
       "        1.57396866e+02, 3.93491735e+01, 1.28486840e+01, 5.01900057e+00,\n",
       "        2.23065554e+00, 1.09301308e+00, 5.78116603e-01, 3.25186010e-01,\n",
       "        1.92414190e-01, 1.18783478e-01, 7.60191364e-02, 5.01826313e-02,\n",
       "        3.40323370e-02, 2.36322589e-02, 1.67575003e-02, 1.21063441e-02,\n",
       "        8.89363742e-03, 6.63276526e-03, 5.01470029e-03, 3.83883136e-03,\n",
       "        2.97230542e-03, 2.32552883e-03, 1.83706859e-03, 1.46415295e-03,\n",
       "        1.17658066e-03, 9.52747206e-04, 7.77010028e-04, 6.37915400e-04,\n",
       "        5.26988445e-04, 4.37896741e-04, 3.65865126e-04, 3.07261612e-04,\n",
       "        2.59301261e-04, 2.19832282e-04, 1.87180072e-04, 1.60032495e-04,\n",
       "        1.37354774e-04, 1.18325861e-04, 1.02290498e-04, 8.87228483e-05,\n",
       "        7.71987082e-05, 6.73741474e-05, 5.89689822e-05, 5.17539160e-05,\n",
       "        4.55404761e-05, 4.01730973e-05, 3.55228608e-05, 3.14825197e-05,\n",
       "        2.79625262e-05, 2.48878461e-05, 2.21953920e-05, 1.98319477e-05,\n",
       "        1.77524820e-05, 1.59187737e-05, 1.42982873e-05, 1.28632487e-05,\n",
       "        1.15898836e-05, 1.04577882e-05, 9.44940680e-06, 8.54959690e-06,\n",
       "        7.74526659e-06, 7.02507075e-06, 6.37915606e-06, 5.79894640e-06,\n",
       "        5.27696164e-06, 4.80666437e-06, 4.38232983e-06, 3.99893533e-06,\n",
       "        3.65206598e-06, 3.33783416e-06, 3.05281058e-06, 2.79396506e-06,\n",
       "        2.55861571e-06, 2.34438510e-06, 2.14916234e-06, 1.97107046e-06,\n",
       "        1.80843792e-06, 1.65977407e-06, 1.52374770e-06, 1.39916835e-06,\n",
       "        1.28497007e-06, 1.18019715e-06, 1.08399163e-06, 9.95582439e-07,\n",
       "        9.14275714e-07, 8.39446404e-07, 7.70530808e-07, 7.07020021e-07,\n",
       "        6.48454132e-07, 5.94417100e-07, 5.44532211e-07, 4.98458052e-07,\n",
       "        4.55884934e-07, 4.16531718e-07, 3.80142983e-07, 3.46486510e-07,\n",
       "        3.15351033e-07, 2.86544232e-07, 2.59890948e-07, 2.35231569e-07,\n",
       "        2.12420607e-07, 1.91325405e-07, 1.71824989e-07, 1.53809033e-07,\n",
       "        1.37176935e-07, 1.21836981e-07, 1.07705603e-07, 9.47067060e-08,\n",
       "        8.27710643e-08, 7.18357854e-08, 6.18438237e-08, 5.27435473e-08,\n",
       "        4.44883504e-08, 3.70363075e-08, 3.03498651e-08, 2.43955688e-08,\n",
       "        1.91438225e-08, 1.45686771e-08, 1.06476461e-08, 7.36154792e-09,\n",
       "        4.69437160e-09, 2.63316537e-09, 1.16794705e-09, 2.91635104e-10,\n",
       "        4.73316543e-30]))"
      ]
     },
     "execution_count": 20,
     "metadata": {},
     "output_type": "execute_result"
    }
   ],
   "source": [
    "welch(x=series1)"
   ]
  },
  {
   "cell_type": "code",
   "execution_count": 6,
   "metadata": {},
   "outputs": [
    {
     "data": {
      "text/plain": [
       "2000-01-01 00:00:00   NaN\n",
       "2000-01-01 01:00:00   NaN\n",
       "2000-01-01 02:00:00   NaN\n",
       "2000-01-02 00:00:00   NaN\n",
       "2000-01-02 01:00:00   NaN\n",
       "2000-01-02 02:00:00   NaN\n",
       "dtype: float64"
      ]
     },
     "execution_count": 6,
     "metadata": {},
     "output_type": "execute_result"
    }
   ],
   "source": [
    "series_1 = pd.Series([np.nan, 2, 3], index=pd.date_range('1/1/2000', periods=3, freq='60T'))\n",
    "series_2 = pd.Series(range(3), index=pd.date_range('1/2/2000', periods=3, freq='60T'))\n",
    "\n",
    "series_1 - series_2"
   ]
  },
  {
   "cell_type": "code",
   "execution_count": null,
   "metadata": {},
   "outputs": [],
   "source": []
  }
 ],
 "metadata": {
  "kernelspec": {
   "display_name": "Python 3",
   "language": "python",
   "name": "python3"
  },
  "language_info": {
   "codemirror_mode": {
    "name": "ipython",
    "version": 3
   },
   "file_extension": ".py",
   "mimetype": "text/x-python",
   "name": "python",
   "nbconvert_exporter": "python",
   "pygments_lexer": "ipython3",
   "version": "3.8.1"
  }
 },
 "nbformat": 4,
 "nbformat_minor": 4
}
