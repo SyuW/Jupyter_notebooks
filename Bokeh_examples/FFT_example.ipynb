{
 "cells": [
  {
   "cell_type": "code",
   "execution_count": 1,
   "metadata": {},
   "outputs": [
    {
     "data": {
      "text/html": [
       "\n",
       "    <div class=\"bk-root\">\n",
       "        <a href=\"https://bokeh.org\" target=\"_blank\" class=\"bk-logo bk-logo-small bk-logo-notebook\"></a>\n",
       "        <span id=\"1001\">Loading BokehJS ...</span>\n",
       "    </div>"
      ]
     },
     "metadata": {},
     "output_type": "display_data"
    },
    {
     "data": {
      "application/javascript": [
       "\n",
       "(function(root) {\n",
       "  function now() {\n",
       "    return new Date();\n",
       "  }\n",
       "\n",
       "  var force = true;\n",
       "\n",
       "  if (typeof root._bokeh_onload_callbacks === \"undefined\" || force === true) {\n",
       "    root._bokeh_onload_callbacks = [];\n",
       "    root._bokeh_is_loading = undefined;\n",
       "  }\n",
       "\n",
       "  var JS_MIME_TYPE = 'application/javascript';\n",
       "  var HTML_MIME_TYPE = 'text/html';\n",
       "  var EXEC_MIME_TYPE = 'application/vnd.bokehjs_exec.v0+json';\n",
       "  var CLASS_NAME = 'output_bokeh rendered_html';\n",
       "\n",
       "  /**\n",
       "   * Render data to the DOM node\n",
       "   */\n",
       "  function render(props, node) {\n",
       "    var script = document.createElement(\"script\");\n",
       "    node.appendChild(script);\n",
       "  }\n",
       "\n",
       "  /**\n",
       "   * Handle when an output is cleared or removed\n",
       "   */\n",
       "  function handleClearOutput(event, handle) {\n",
       "    var cell = handle.cell;\n",
       "\n",
       "    var id = cell.output_area._bokeh_element_id;\n",
       "    var server_id = cell.output_area._bokeh_server_id;\n",
       "    // Clean up Bokeh references\n",
       "    if (id != null && id in Bokeh.index) {\n",
       "      Bokeh.index[id].model.document.clear();\n",
       "      delete Bokeh.index[id];\n",
       "    }\n",
       "\n",
       "    if (server_id !== undefined) {\n",
       "      // Clean up Bokeh references\n",
       "      var cmd = \"from bokeh.io.state import curstate; print(curstate().uuid_to_server['\" + server_id + \"'].get_sessions()[0].document.roots[0]._id)\";\n",
       "      cell.notebook.kernel.execute(cmd, {\n",
       "        iopub: {\n",
       "          output: function(msg) {\n",
       "            var id = msg.content.text.trim();\n",
       "            if (id in Bokeh.index) {\n",
       "              Bokeh.index[id].model.document.clear();\n",
       "              delete Bokeh.index[id];\n",
       "            }\n",
       "          }\n",
       "        }\n",
       "      });\n",
       "      // Destroy server and session\n",
       "      var cmd = \"import bokeh.io.notebook as ion; ion.destroy_server('\" + server_id + \"')\";\n",
       "      cell.notebook.kernel.execute(cmd);\n",
       "    }\n",
       "  }\n",
       "\n",
       "  /**\n",
       "   * Handle when a new output is added\n",
       "   */\n",
       "  function handleAddOutput(event, handle) {\n",
       "    var output_area = handle.output_area;\n",
       "    var output = handle.output;\n",
       "\n",
       "    // limit handleAddOutput to display_data with EXEC_MIME_TYPE content only\n",
       "    if ((output.output_type != \"display_data\") || (!output.data.hasOwnProperty(EXEC_MIME_TYPE))) {\n",
       "      return\n",
       "    }\n",
       "\n",
       "    var toinsert = output_area.element.find(\".\" + CLASS_NAME.split(' ')[0]);\n",
       "\n",
       "    if (output.metadata[EXEC_MIME_TYPE][\"id\"] !== undefined) {\n",
       "      toinsert[toinsert.length - 1].firstChild.textContent = output.data[JS_MIME_TYPE];\n",
       "      // store reference to embed id on output_area\n",
       "      output_area._bokeh_element_id = output.metadata[EXEC_MIME_TYPE][\"id\"];\n",
       "    }\n",
       "    if (output.metadata[EXEC_MIME_TYPE][\"server_id\"] !== undefined) {\n",
       "      var bk_div = document.createElement(\"div\");\n",
       "      bk_div.innerHTML = output.data[HTML_MIME_TYPE];\n",
       "      var script_attrs = bk_div.children[0].attributes;\n",
       "      for (var i = 0; i < script_attrs.length; i++) {\n",
       "        toinsert[toinsert.length - 1].firstChild.setAttribute(script_attrs[i].name, script_attrs[i].value);\n",
       "      }\n",
       "      // store reference to server id on output_area\n",
       "      output_area._bokeh_server_id = output.metadata[EXEC_MIME_TYPE][\"server_id\"];\n",
       "    }\n",
       "  }\n",
       "\n",
       "  function register_renderer(events, OutputArea) {\n",
       "\n",
       "    function append_mime(data, metadata, element) {\n",
       "      // create a DOM node to render to\n",
       "      var toinsert = this.create_output_subarea(\n",
       "        metadata,\n",
       "        CLASS_NAME,\n",
       "        EXEC_MIME_TYPE\n",
       "      );\n",
       "      this.keyboard_manager.register_events(toinsert);\n",
       "      // Render to node\n",
       "      var props = {data: data, metadata: metadata[EXEC_MIME_TYPE]};\n",
       "      render(props, toinsert[toinsert.length - 1]);\n",
       "      element.append(toinsert);\n",
       "      return toinsert\n",
       "    }\n",
       "\n",
       "    /* Handle when an output is cleared or removed */\n",
       "    events.on('clear_output.CodeCell', handleClearOutput);\n",
       "    events.on('delete.Cell', handleClearOutput);\n",
       "\n",
       "    /* Handle when a new output is added */\n",
       "    events.on('output_added.OutputArea', handleAddOutput);\n",
       "\n",
       "    /**\n",
       "     * Register the mime type and append_mime function with output_area\n",
       "     */\n",
       "    OutputArea.prototype.register_mime_type(EXEC_MIME_TYPE, append_mime, {\n",
       "      /* Is output safe? */\n",
       "      safe: true,\n",
       "      /* Index of renderer in `output_area.display_order` */\n",
       "      index: 0\n",
       "    });\n",
       "  }\n",
       "\n",
       "  // register the mime type if in Jupyter Notebook environment and previously unregistered\n",
       "  if (root.Jupyter !== undefined) {\n",
       "    var events = require('base/js/events');\n",
       "    var OutputArea = require('notebook/js/outputarea').OutputArea;\n",
       "\n",
       "    if (OutputArea.prototype.mime_types().indexOf(EXEC_MIME_TYPE) == -1) {\n",
       "      register_renderer(events, OutputArea);\n",
       "    }\n",
       "  }\n",
       "\n",
       "  \n",
       "  if (typeof (root._bokeh_timeout) === \"undefined\" || force === true) {\n",
       "    root._bokeh_timeout = Date.now() + 5000;\n",
       "    root._bokeh_failed_load = false;\n",
       "  }\n",
       "\n",
       "  var NB_LOAD_WARNING = {'data': {'text/html':\n",
       "     \"<div style='background-color: #fdd'>\\n\"+\n",
       "     \"<p>\\n\"+\n",
       "     \"BokehJS does not appear to have successfully loaded. If loading BokehJS from CDN, this \\n\"+\n",
       "     \"may be due to a slow or bad network connection. Possible fixes:\\n\"+\n",
       "     \"</p>\\n\"+\n",
       "     \"<ul>\\n\"+\n",
       "     \"<li>re-rerun `output_notebook()` to attempt to load from CDN again, or</li>\\n\"+\n",
       "     \"<li>use INLINE resources instead, as so:</li>\\n\"+\n",
       "     \"</ul>\\n\"+\n",
       "     \"<code>\\n\"+\n",
       "     \"from bokeh.resources import INLINE\\n\"+\n",
       "     \"output_notebook(resources=INLINE)\\n\"+\n",
       "     \"</code>\\n\"+\n",
       "     \"</div>\"}};\n",
       "\n",
       "  function display_loaded() {\n",
       "    var el = document.getElementById(\"1001\");\n",
       "    if (el != null) {\n",
       "      el.textContent = \"BokehJS is loading...\";\n",
       "    }\n",
       "    if (root.Bokeh !== undefined) {\n",
       "      if (el != null) {\n",
       "        el.textContent = \"BokehJS \" + root.Bokeh.version + \" successfully loaded.\";\n",
       "      }\n",
       "    } else if (Date.now() < root._bokeh_timeout) {\n",
       "      setTimeout(display_loaded, 100)\n",
       "    }\n",
       "  }\n",
       "\n",
       "\n",
       "  function run_callbacks() {\n",
       "    try {\n",
       "      root._bokeh_onload_callbacks.forEach(function(callback) {\n",
       "        if (callback != null)\n",
       "          callback();\n",
       "      });\n",
       "    } finally {\n",
       "      delete root._bokeh_onload_callbacks\n",
       "    }\n",
       "    console.debug(\"Bokeh: all callbacks have finished\");\n",
       "  }\n",
       "\n",
       "  function load_libs(css_urls, js_urls, callback) {\n",
       "    if (css_urls == null) css_urls = [];\n",
       "    if (js_urls == null) js_urls = [];\n",
       "\n",
       "    root._bokeh_onload_callbacks.push(callback);\n",
       "    if (root._bokeh_is_loading > 0) {\n",
       "      console.debug(\"Bokeh: BokehJS is being loaded, scheduling callback at\", now());\n",
       "      return null;\n",
       "    }\n",
       "    if (js_urls == null || js_urls.length === 0) {\n",
       "      run_callbacks();\n",
       "      return null;\n",
       "    }\n",
       "    console.debug(\"Bokeh: BokehJS not loaded, scheduling load and callback at\", now());\n",
       "    root._bokeh_is_loading = css_urls.length + js_urls.length;\n",
       "\n",
       "    function on_load() {\n",
       "      root._bokeh_is_loading--;\n",
       "      if (root._bokeh_is_loading === 0) {\n",
       "        console.debug(\"Bokeh: all BokehJS libraries/stylesheets loaded\");\n",
       "        run_callbacks()\n",
       "      }\n",
       "    }\n",
       "\n",
       "    function on_error() {\n",
       "      console.error(\"failed to load \" + url);\n",
       "    }\n",
       "\n",
       "    for (var i = 0; i < css_urls.length; i++) {\n",
       "      var url = css_urls[i];\n",
       "      const element = document.createElement(\"link\");\n",
       "      element.onload = on_load;\n",
       "      element.onerror = on_error;\n",
       "      element.rel = \"stylesheet\";\n",
       "      element.type = \"text/css\";\n",
       "      element.href = url;\n",
       "      console.debug(\"Bokeh: injecting link tag for BokehJS stylesheet: \", url);\n",
       "      document.body.appendChild(element);\n",
       "    }\n",
       "\n",
       "    for (var i = 0; i < js_urls.length; i++) {\n",
       "      var url = js_urls[i];\n",
       "      var element = document.createElement('script');\n",
       "      element.onload = on_load;\n",
       "      element.onerror = on_error;\n",
       "      element.async = false;\n",
       "      element.src = url;\n",
       "      console.debug(\"Bokeh: injecting script tag for BokehJS library: \", url);\n",
       "      document.head.appendChild(element);\n",
       "    }\n",
       "  };var element = document.getElementById(\"1001\");\n",
       "  if (element == null) {\n",
       "    console.error(\"Bokeh: ERROR: autoload.js configured with elementid '1001' but no matching script tag was found. \")\n",
       "    return false;\n",
       "  }\n",
       "\n",
       "  function inject_raw_css(css) {\n",
       "    const element = document.createElement(\"style\");\n",
       "    element.appendChild(document.createTextNode(css));\n",
       "    document.body.appendChild(element);\n",
       "  }\n",
       "\n",
       "  \n",
       "  var js_urls = [\"https://cdn.pydata.org/bokeh/release/bokeh-1.4.0.min.js\", \"https://cdn.pydata.org/bokeh/release/bokeh-widgets-1.4.0.min.js\", \"https://cdn.pydata.org/bokeh/release/bokeh-tables-1.4.0.min.js\", \"https://cdn.pydata.org/bokeh/release/bokeh-gl-1.4.0.min.js\"];\n",
       "  var css_urls = [];\n",
       "  \n",
       "\n",
       "  var inline_js = [\n",
       "    function(Bokeh) {\n",
       "      Bokeh.set_log_level(\"info\");\n",
       "    },\n",
       "    function(Bokeh) {\n",
       "    \n",
       "    \n",
       "    }\n",
       "  ];\n",
       "\n",
       "  function run_inline_js() {\n",
       "    \n",
       "    if (root.Bokeh !== undefined || force === true) {\n",
       "      \n",
       "    for (var i = 0; i < inline_js.length; i++) {\n",
       "      inline_js[i].call(root, root.Bokeh);\n",
       "    }\n",
       "    if (force === true) {\n",
       "        display_loaded();\n",
       "      }} else if (Date.now() < root._bokeh_timeout) {\n",
       "      setTimeout(run_inline_js, 100);\n",
       "    } else if (!root._bokeh_failed_load) {\n",
       "      console.log(\"Bokeh: BokehJS failed to load within specified timeout.\");\n",
       "      root._bokeh_failed_load = true;\n",
       "    } else if (force !== true) {\n",
       "      var cell = $(document.getElementById(\"1001\")).parents('.cell').data().cell;\n",
       "      cell.output_area.append_execute_result(NB_LOAD_WARNING)\n",
       "    }\n",
       "\n",
       "  }\n",
       "\n",
       "  if (root._bokeh_is_loading === 0) {\n",
       "    console.debug(\"Bokeh: BokehJS loaded, going straight to plotting\");\n",
       "    run_inline_js();\n",
       "  } else {\n",
       "    load_libs(css_urls, js_urls, function() {\n",
       "      console.debug(\"Bokeh: BokehJS plotting callback run at\", now());\n",
       "      run_inline_js();\n",
       "    });\n",
       "  }\n",
       "}(window));"
      ],
      "application/vnd.bokehjs_load.v0+json": "\n(function(root) {\n  function now() {\n    return new Date();\n  }\n\n  var force = true;\n\n  if (typeof root._bokeh_onload_callbacks === \"undefined\" || force === true) {\n    root._bokeh_onload_callbacks = [];\n    root._bokeh_is_loading = undefined;\n  }\n\n  \n\n  \n  if (typeof (root._bokeh_timeout) === \"undefined\" || force === true) {\n    root._bokeh_timeout = Date.now() + 5000;\n    root._bokeh_failed_load = false;\n  }\n\n  var NB_LOAD_WARNING = {'data': {'text/html':\n     \"<div style='background-color: #fdd'>\\n\"+\n     \"<p>\\n\"+\n     \"BokehJS does not appear to have successfully loaded. If loading BokehJS from CDN, this \\n\"+\n     \"may be due to a slow or bad network connection. Possible fixes:\\n\"+\n     \"</p>\\n\"+\n     \"<ul>\\n\"+\n     \"<li>re-rerun `output_notebook()` to attempt to load from CDN again, or</li>\\n\"+\n     \"<li>use INLINE resources instead, as so:</li>\\n\"+\n     \"</ul>\\n\"+\n     \"<code>\\n\"+\n     \"from bokeh.resources import INLINE\\n\"+\n     \"output_notebook(resources=INLINE)\\n\"+\n     \"</code>\\n\"+\n     \"</div>\"}};\n\n  function display_loaded() {\n    var el = document.getElementById(\"1001\");\n    if (el != null) {\n      el.textContent = \"BokehJS is loading...\";\n    }\n    if (root.Bokeh !== undefined) {\n      if (el != null) {\n        el.textContent = \"BokehJS \" + root.Bokeh.version + \" successfully loaded.\";\n      }\n    } else if (Date.now() < root._bokeh_timeout) {\n      setTimeout(display_loaded, 100)\n    }\n  }\n\n\n  function run_callbacks() {\n    try {\n      root._bokeh_onload_callbacks.forEach(function(callback) {\n        if (callback != null)\n          callback();\n      });\n    } finally {\n      delete root._bokeh_onload_callbacks\n    }\n    console.debug(\"Bokeh: all callbacks have finished\");\n  }\n\n  function load_libs(css_urls, js_urls, callback) {\n    if (css_urls == null) css_urls = [];\n    if (js_urls == null) js_urls = [];\n\n    root._bokeh_onload_callbacks.push(callback);\n    if (root._bokeh_is_loading > 0) {\n      console.debug(\"Bokeh: BokehJS is being loaded, scheduling callback at\", now());\n      return null;\n    }\n    if (js_urls == null || js_urls.length === 0) {\n      run_callbacks();\n      return null;\n    }\n    console.debug(\"Bokeh: BokehJS not loaded, scheduling load and callback at\", now());\n    root._bokeh_is_loading = css_urls.length + js_urls.length;\n\n    function on_load() {\n      root._bokeh_is_loading--;\n      if (root._bokeh_is_loading === 0) {\n        console.debug(\"Bokeh: all BokehJS libraries/stylesheets loaded\");\n        run_callbacks()\n      }\n    }\n\n    function on_error() {\n      console.error(\"failed to load \" + url);\n    }\n\n    for (var i = 0; i < css_urls.length; i++) {\n      var url = css_urls[i];\n      const element = document.createElement(\"link\");\n      element.onload = on_load;\n      element.onerror = on_error;\n      element.rel = \"stylesheet\";\n      element.type = \"text/css\";\n      element.href = url;\n      console.debug(\"Bokeh: injecting link tag for BokehJS stylesheet: \", url);\n      document.body.appendChild(element);\n    }\n\n    for (var i = 0; i < js_urls.length; i++) {\n      var url = js_urls[i];\n      var element = document.createElement('script');\n      element.onload = on_load;\n      element.onerror = on_error;\n      element.async = false;\n      element.src = url;\n      console.debug(\"Bokeh: injecting script tag for BokehJS library: \", url);\n      document.head.appendChild(element);\n    }\n  };var element = document.getElementById(\"1001\");\n  if (element == null) {\n    console.error(\"Bokeh: ERROR: autoload.js configured with elementid '1001' but no matching script tag was found. \")\n    return false;\n  }\n\n  function inject_raw_css(css) {\n    const element = document.createElement(\"style\");\n    element.appendChild(document.createTextNode(css));\n    document.body.appendChild(element);\n  }\n\n  \n  var js_urls = [\"https://cdn.pydata.org/bokeh/release/bokeh-1.4.0.min.js\", \"https://cdn.pydata.org/bokeh/release/bokeh-widgets-1.4.0.min.js\", \"https://cdn.pydata.org/bokeh/release/bokeh-tables-1.4.0.min.js\", \"https://cdn.pydata.org/bokeh/release/bokeh-gl-1.4.0.min.js\"];\n  var css_urls = [];\n  \n\n  var inline_js = [\n    function(Bokeh) {\n      Bokeh.set_log_level(\"info\");\n    },\n    function(Bokeh) {\n    \n    \n    }\n  ];\n\n  function run_inline_js() {\n    \n    if (root.Bokeh !== undefined || force === true) {\n      \n    for (var i = 0; i < inline_js.length; i++) {\n      inline_js[i].call(root, root.Bokeh);\n    }\n    if (force === true) {\n        display_loaded();\n      }} else if (Date.now() < root._bokeh_timeout) {\n      setTimeout(run_inline_js, 100);\n    } else if (!root._bokeh_failed_load) {\n      console.log(\"Bokeh: BokehJS failed to load within specified timeout.\");\n      root._bokeh_failed_load = true;\n    } else if (force !== true) {\n      var cell = $(document.getElementById(\"1001\")).parents('.cell').data().cell;\n      cell.output_area.append_execute_result(NB_LOAD_WARNING)\n    }\n\n  }\n\n  if (root._bokeh_is_loading === 0) {\n    console.debug(\"Bokeh: BokehJS loaded, going straight to plotting\");\n    run_inline_js();\n  } else {\n    load_libs(css_urls, js_urls, function() {\n      console.debug(\"Bokeh: BokehJS plotting callback run at\", now());\n      run_inline_js();\n    });\n  }\n}(window));"
     },
     "metadata": {},
     "output_type": "display_data"
    }
   ],
   "source": [
    "from bokeh.io import show, output_notebook\n",
    "from bokeh.layouts import column\n",
    "from bokeh.models import ColumnDataSource, Label, Title, HoverTool, Text\n",
    "from bokeh.plotting import figure\n",
    "from bokeh.util.compiler import TypeScript\n",
    "\n",
    "import numpy as np\n",
    "import pandas as pd\n",
    "\n",
    "from scipy.signal import welch\n",
    "\n",
    "output_notebook()"
   ]
  },
  {
   "cell_type": "code",
   "execution_count": 2,
   "metadata": {},
   "outputs": [],
   "source": [
    "from bokeh.models.annotations import Span"
   ]
  },
  {
   "cell_type": "code",
   "execution_count": 3,
   "metadata": {},
   "outputs": [],
   "source": [
    "no_of_samples = 256"
   ]
  },
  {
   "cell_type": "code",
   "execution_count": 4,
   "metadata": {},
   "outputs": [],
   "source": [
    "# Sampling frequency will be one hour\n",
    "time_index = pd.date_range('2018-01-01', periods=no_of_samples, freq='H')"
   ]
  },
  {
   "cell_type": "code",
   "execution_count": 5,
   "metadata": {},
   "outputs": [],
   "source": [
    "freq = 0.15\n",
    "t = np.arange(no_of_samples)\n",
    "sinusoid = np.sin(2*np.pi*t*freq)\n",
    "data = np.random.random(size=(3, no_of_samples))\n",
    "\n",
    "noisy_sinusoids = [sinusoid + (0.5) * np.random.random(no_of_samples) for x in range(3)]\n",
    "s1, s2, s3 = noisy_sinusoids\n",
    "\n",
    "# Detided\n",
    "s2 = s2 - ((0.2) * np.random.random(no_of_samples) + sinusoid)\n",
    "s3 = s3 - ((0.1) * np.random.random(no_of_samples) + sinusoid)"
   ]
  },
  {
   "cell_type": "code",
   "execution_count": 6,
   "metadata": {},
   "outputs": [],
   "source": [
    "sampling_freq = 1 #hour\n",
    "freqs = list(np.linspace(0, sampling_freq * 0.5, no_of_samples // 2 + 1))\n",
    "fft1, fft2, fft3 = map(lambda datum: np.abs(np.fft.rfft(datum, norm=\"ortho\")), noisy_sinusoids)"
   ]
  },
  {
   "cell_type": "code",
   "execution_count": 7,
   "metadata": {},
   "outputs": [],
   "source": [
    "ts1 = pd.Series(s1, index=time_index).to_frame()\n",
    "ts2 = pd.Series(s2, index=time_index).to_frame()\n",
    "ts3 = pd.Series(s3, index=time_index).to_frame()"
   ]
  },
  {
   "cell_type": "code",
   "execution_count": 8,
   "metadata": {},
   "outputs": [],
   "source": [
    "fs1 = pd.Series(fft1, index=freqs).to_frame()\n",
    "fs2 = pd.Series(fft2, index=freqs).to_frame()\n",
    "fs3 = pd.Series(fft3, index=freqs).to_frame()"
   ]
  },
  {
   "cell_type": "code",
   "execution_count": 9,
   "metadata": {},
   "outputs": [],
   "source": [
    "src1 = ColumnDataSource({\"time\": time_index, \"vals\": s1})"
   ]
  },
  {
   "cell_type": "code",
   "execution_count": 10,
   "metadata": {},
   "outputs": [],
   "source": [
    "src2 = ColumnDataSource({\"time\": time_index, \"vals\": s2})\n",
    "src3 = ColumnDataSource({\"time\": time_index, \"vals\": s3})"
   ]
  },
  {
   "cell_type": "code",
   "execution_count": 11,
   "metadata": {},
   "outputs": [],
   "source": [
    "fftsrc1 = ColumnDataSource({\"freq\": freqs, \"vals\": fft1})\n",
    "fftsrc2 = ColumnDataSource({\"freq\": freqs, \"vals\": fft2})\n",
    "fftsrc3 = ColumnDataSource({\"freq\": freqs, \"vals\": fft3})"
   ]
  },
  {
   "cell_type": "code",
   "execution_count": 12,
   "metadata": {},
   "outputs": [
    {
     "data": {
      "text/html": [
       "\n",
       "\n",
       "\n",
       "\n",
       "\n",
       "\n",
       "  <div class=\"bk-root\" id=\"7d5c324f-735f-4371-8dd0-17d8a01d6b5a\" data-root-id=\"1008\"></div>\n"
      ]
     },
     "metadata": {},
     "output_type": "display_data"
    },
    {
     "data": {
      "application/javascript": [
       "(function(root) {\n",
       "  function embed_document(root) {\n",
       "    \n",
       "  var docs_json = {\"f7614e2e-c64a-4220-91b4-4489c9bb8f33\":{\"roots\":{\"references\":[{\"attributes\":{\"below\":[{\"id\":\"1019\",\"type\":\"DatetimeAxis\"}],\"center\":[{\"id\":\"1023\",\"type\":\"Grid\"},{\"id\":\"1028\",\"type\":\"Grid\"},{\"id\":\"1065\",\"type\":\"Legend\"}],\"left\":[{\"id\":\"1024\",\"type\":\"LinearAxis\"}],\"plot_height\":350,\"plot_width\":800,\"renderers\":[{\"id\":\"1045\",\"type\":\"GlyphRenderer\"}],\"title\":{\"id\":\"1009\",\"type\":\"Title\"},\"toolbar\":{\"id\":\"1035\",\"type\":\"Toolbar\"},\"x_range\":{\"id\":\"1011\",\"type\":\"DataRange1d\"},\"x_scale\":{\"id\":\"1015\",\"type\":\"LinearScale\"},\"y_range\":{\"id\":\"1013\",\"type\":\"DataRange1d\"},\"y_scale\":{\"id\":\"1017\",\"type\":\"LinearScale\"}},\"id\":\"1008\",\"subtype\":\"Figure\",\"type\":\"Plot\"},{\"attributes\":{},\"id\":\"1033\",\"type\":\"ResetTool\"},{\"attributes\":{\"months\":[0,2,4,6,8,10]},\"id\":\"1060\",\"type\":\"MonthsTicker\"},{\"attributes\":{\"line_color\":\"navy\",\"x\":{\"field\":\"time\"},\"y\":{\"field\":\"vals\"}},\"id\":\"1043\",\"type\":\"Line\"},{\"attributes\":{\"months\":[0,1,2,3,4,5,6,7,8,9,10,11]},\"id\":\"1059\",\"type\":\"MonthsTicker\"},{\"attributes\":{\"line_alpha\":0.1,\"line_color\":\"#1f77b4\",\"x\":{\"field\":\"time\"},\"y\":{\"field\":\"vals\"}},\"id\":\"1044\",\"type\":\"Line\"},{\"attributes\":{\"days\":[1,15]},\"id\":\"1058\",\"type\":\"DaysTicker\"},{\"attributes\":{\"months\":[0,6]},\"id\":\"1062\",\"type\":\"MonthsTicker\"},{\"attributes\":{},\"id\":\"1063\",\"type\":\"YearsTicker\"},{\"attributes\":{\"items\":[{\"id\":\"1066\",\"type\":\"LegendItem\"}]},\"id\":\"1065\",\"type\":\"Legend\"},{\"attributes\":{\"months\":[0,4,8]},\"id\":\"1061\",\"type\":\"MonthsTicker\"},{\"attributes\":{\"data_source\":{\"id\":\"1002\",\"type\":\"ColumnDataSource\"},\"glyph\":{\"id\":\"1043\",\"type\":\"Line\"},\"hover_glyph\":null,\"muted_glyph\":null,\"nonselection_glyph\":{\"id\":\"1044\",\"type\":\"Line\"},\"selection_glyph\":null,\"view\":{\"id\":\"1046\",\"type\":\"CDSView\"}},\"id\":\"1045\",\"type\":\"GlyphRenderer\"},{\"attributes\":{\"axis_label\":\"Date\",\"formatter\":{\"id\":\"1048\",\"type\":\"DatetimeTickFormatter\"},\"ticker\":{\"id\":\"1020\",\"type\":\"DatetimeTicker\"}},\"id\":\"1019\",\"type\":\"DatetimeAxis\"},{\"attributes\":{\"bottom_units\":\"screen\",\"fill_alpha\":{\"value\":0.5},\"fill_color\":{\"value\":\"lightgrey\"},\"left_units\":\"screen\",\"level\":\"overlay\",\"line_alpha\":{\"value\":1.0},\"line_color\":{\"value\":\"black\"},\"line_dash\":[4,4],\"line_width\":{\"value\":2},\"render_mode\":\"css\",\"right_units\":\"screen\",\"top_units\":\"screen\"},\"id\":\"1064\",\"type\":\"BoxAnnotation\"},{\"attributes\":{\"text\":\"Raw observational data\"},\"id\":\"1009\",\"type\":\"Title\"},{\"attributes\":{},\"id\":\"1025\",\"type\":\"BasicTicker\"},{\"attributes\":{\"axis_label\":\"Water level (m)\",\"formatter\":{\"id\":\"1050\",\"type\":\"BasicTickFormatter\"},\"ticker\":{\"id\":\"1025\",\"type\":\"BasicTicker\"}},\"id\":\"1024\",\"type\":\"LinearAxis\"},{\"attributes\":{\"callback\":null},\"id\":\"1011\",\"type\":\"DataRange1d\"},{\"attributes\":{},\"id\":\"1017\",\"type\":\"LinearScale\"},{\"attributes\":{\"callback\":null},\"id\":\"1013\",\"type\":\"DataRange1d\"},{\"attributes\":{\"num_minor_ticks\":5,\"tickers\":[{\"id\":\"1052\",\"type\":\"AdaptiveTicker\"},{\"id\":\"1053\",\"type\":\"AdaptiveTicker\"},{\"id\":\"1054\",\"type\":\"AdaptiveTicker\"},{\"id\":\"1055\",\"type\":\"DaysTicker\"},{\"id\":\"1056\",\"type\":\"DaysTicker\"},{\"id\":\"1057\",\"type\":\"DaysTicker\"},{\"id\":\"1058\",\"type\":\"DaysTicker\"},{\"id\":\"1059\",\"type\":\"MonthsTicker\"},{\"id\":\"1060\",\"type\":\"MonthsTicker\"},{\"id\":\"1061\",\"type\":\"MonthsTicker\"},{\"id\":\"1062\",\"type\":\"MonthsTicker\"},{\"id\":\"1063\",\"type\":\"YearsTicker\"}]},\"id\":\"1020\",\"type\":\"DatetimeTicker\"},{\"attributes\":{},\"id\":\"1085\",\"type\":\"UnionRenderers\"},{\"attributes\":{},\"id\":\"1015\",\"type\":\"LinearScale\"},{\"attributes\":{\"ticker\":{\"id\":\"1020\",\"type\":\"DatetimeTicker\"}},\"id\":\"1023\",\"type\":\"Grid\"},{\"attributes\":{},\"id\":\"1084\",\"type\":\"Selection\"},{\"attributes\":{\"label\":{\"value\":\"raw_obs\"},\"renderers\":[{\"id\":\"1045\",\"type\":\"GlyphRenderer\"}]},\"id\":\"1066\",\"type\":\"LegendItem\"},{\"attributes\":{\"callback\":null,\"data\":{\"time\":{\"__ndarray__\":\"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\",\"dtype\":\"float64\",\"shape\":[256]},\"vals\":{\"__ndarray__\":\"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\",\"dtype\":\"float64\",\"shape\":[256]}},\"selected\":{\"id\":\"1084\",\"type\":\"Selection\"},\"selection_policy\":{\"id\":\"1085\",\"type\":\"UnionRenderers\"}},\"id\":\"1002\",\"type\":\"ColumnDataSource\"},{\"attributes\":{},\"id\":\"1050\",\"type\":\"BasicTickFormatter\"},{\"attributes\":{\"dimension\":1,\"ticker\":{\"id\":\"1025\",\"type\":\"BasicTicker\"}},\"id\":\"1028\",\"type\":\"Grid\"},{\"attributes\":{\"overlay\":{\"id\":\"1064\",\"type\":\"BoxAnnotation\"}},\"id\":\"1031\",\"type\":\"BoxZoomTool\"},{\"attributes\":{\"source\":{\"id\":\"1002\",\"type\":\"ColumnDataSource\"}},\"id\":\"1046\",\"type\":\"CDSView\"},{\"attributes\":{\"mantissas\":[1,2,5],\"max_interval\":500.0,\"num_minor_ticks\":0},\"id\":\"1052\",\"type\":\"AdaptiveTicker\"},{\"attributes\":{},\"id\":\"1034\",\"type\":\"HelpTool\"},{\"attributes\":{\"base\":24,\"mantissas\":[1,2,4,6,8,12],\"max_interval\":43200000.0,\"min_interval\":3600000.0,\"num_minor_ticks\":0},\"id\":\"1054\",\"type\":\"AdaptiveTicker\"},{\"attributes\":{\"days\":[1,4,7,10,13,16,19,22,25,28]},\"id\":\"1056\",\"type\":\"DaysTicker\"},{\"attributes\":{\"active_drag\":\"auto\",\"active_inspect\":\"auto\",\"active_multi\":null,\"active_scroll\":\"auto\",\"active_tap\":\"auto\",\"tools\":[{\"id\":\"1029\",\"type\":\"PanTool\"},{\"id\":\"1030\",\"type\":\"WheelZoomTool\"},{\"id\":\"1031\",\"type\":\"BoxZoomTool\"},{\"id\":\"1032\",\"type\":\"SaveTool\"},{\"id\":\"1033\",\"type\":\"ResetTool\"},{\"id\":\"1034\",\"type\":\"HelpTool\"}]},\"id\":\"1035\",\"type\":\"Toolbar\"},{\"attributes\":{\"base\":60,\"mantissas\":[1,2,5,10,15,20,30],\"max_interval\":1800000.0,\"min_interval\":1000.0,\"num_minor_ticks\":0},\"id\":\"1053\",\"type\":\"AdaptiveTicker\"},{\"attributes\":{},\"id\":\"1029\",\"type\":\"PanTool\"},{\"attributes\":{\"days\":[1,8,15,22]},\"id\":\"1057\",\"type\":\"DaysTicker\"},{\"attributes\":{},\"id\":\"1030\",\"type\":\"WheelZoomTool\"},{\"attributes\":{\"days\":[1,2,3,4,5,6,7,8,9,10,11,12,13,14,15,16,17,18,19,20,21,22,23,24,25,26,27,28,29,30,31]},\"id\":\"1055\",\"type\":\"DaysTicker\"},{\"attributes\":{},\"id\":\"1048\",\"type\":\"DatetimeTickFormatter\"},{\"attributes\":{},\"id\":\"1032\",\"type\":\"SaveTool\"}],\"root_ids\":[\"1008\"]},\"title\":\"Bokeh Application\",\"version\":\"1.4.0\"}};\n",
       "  var render_items = [{\"docid\":\"f7614e2e-c64a-4220-91b4-4489c9bb8f33\",\"roots\":{\"1008\":\"7d5c324f-735f-4371-8dd0-17d8a01d6b5a\"}}];\n",
       "  root.Bokeh.embed.embed_items_notebook(docs_json, render_items);\n",
       "\n",
       "  }\n",
       "  if (root.Bokeh !== undefined) {\n",
       "    embed_document(root);\n",
       "  } else {\n",
       "    var attempts = 0;\n",
       "    var timer = setInterval(function(root) {\n",
       "      if (root.Bokeh !== undefined) {\n",
       "        clearInterval(timer);\n",
       "        embed_document(root);\n",
       "      } else {\n",
       "        attempts++;\n",
       "        if (attempts > 100) {\n",
       "          clearInterval(timer);\n",
       "          console.log(\"Bokeh: ERROR: Unable to run BokehJS code because BokehJS library is missing\");\n",
       "        }\n",
       "      }\n",
       "    }, 10, root)\n",
       "  }\n",
       "})(window);"
      ],
      "application/vnd.bokehjs_exec.v0+json": ""
     },
     "metadata": {
      "application/vnd.bokehjs_exec.v0+json": {
       "id": "1008"
      }
     },
     "output_type": "display_data"
    }
   ],
   "source": [
    "p_lone = figure(plot_width=800, plot_height=350, title=\"Raw observational data\", x_axis_type=\"datetime\")\n",
    "p_lone.line(x='time', y='vals', line_color='navy', line_dash=\"solid\", legend_label=\"raw_obs\", source=src1)\n",
    "\n",
    "p_lone.xaxis.axis_label = \"Date\"\n",
    "p_lone.yaxis.axis_label = \"Water level (m)\"\n",
    "\n",
    "show(p_lone)"
   ]
  },
  {
   "cell_type": "code",
   "execution_count": 13,
   "metadata": {},
   "outputs": [],
   "source": [
    "twl_hovertool = HoverTool(\n",
    "    tooltips=[\n",
    "        ('date', '@time{%F}'),\n",
    "        ('wlev', '@vals'),\n",
    "    ],\n",
    "    \n",
    "    formatters={\n",
    "        '@time' : 'datetime'\n",
    "    }\n",
    ")\n",
    "\n",
    "p_lone.add_tools(twl_hovertool)"
   ]
  },
  {
   "cell_type": "code",
   "execution_count": 14,
   "metadata": {},
   "outputs": [
    {
     "data": {
      "text/html": [
       "\n",
       "\n",
       "\n",
       "\n",
       "\n",
       "\n",
       "  <div class=\"bk-root\" id=\"bef70d06-2f73-4416-8b02-e29f10908f6f\" data-root-id=\"1229\"></div>\n"
      ]
     },
     "metadata": {},
     "output_type": "display_data"
    },
    {
     "data": {
      "application/javascript": [
       "(function(root) {\n",
       "  function embed_document(root) {\n",
       "    \n",
       "  var docs_json = {\"c87da61b-4290-4aa7-b7c7-ccd340ea9e2e\":{\"roots\":{\"references\":[{\"attributes\":{\"below\":[{\"id\":\"1240\",\"type\":\"DatetimeAxis\"}],\"center\":[{\"id\":\"1244\",\"type\":\"Grid\"},{\"id\":\"1249\",\"type\":\"Grid\"},{\"id\":\"1287\",\"type\":\"Legend\"}],\"left\":[{\"id\":\"1245\",\"type\":\"LinearAxis\"}],\"plot_height\":350,\"plot_width\":800,\"renderers\":[{\"id\":\"1267\",\"type\":\"GlyphRenderer\"},{\"id\":\"1293\",\"type\":\"GlyphRenderer\"}],\"title\":{\"id\":\"1230\",\"type\":\"Title\"},\"toolbar\":{\"id\":\"1256\",\"type\":\"Toolbar\"},\"x_range\":{\"id\":\"1232\",\"type\":\"DataRange1d\"},\"x_scale\":{\"id\":\"1236\",\"type\":\"LinearScale\"},\"y_range\":{\"id\":\"1234\",\"type\":\"DataRange1d\"},\"y_scale\":{\"id\":\"1238\",\"type\":\"LinearScale\"}},\"id\":\"1229\",\"subtype\":\"Figure\",\"type\":\"Plot\"},{\"attributes\":{},\"id\":\"1313\",\"type\":\"UnionRenderers\"},{\"attributes\":{},\"id\":\"1250\",\"type\":\"PanTool\"},{\"attributes\":{\"callback\":null},\"id\":\"1234\",\"type\":\"DataRange1d\"},{\"attributes\":{\"active_drag\":\"auto\",\"active_inspect\":\"auto\",\"active_multi\":null,\"active_scroll\":\"auto\",\"active_tap\":\"auto\",\"tools\":[{\"id\":\"1250\",\"type\":\"PanTool\"},{\"id\":\"1251\",\"type\":\"WheelZoomTool\"},{\"id\":\"1252\",\"type\":\"BoxZoomTool\"},{\"id\":\"1253\",\"type\":\"SaveTool\"},{\"id\":\"1254\",\"type\":\"ResetTool\"},{\"id\":\"1255\",\"type\":\"HelpTool\"}]},\"id\":\"1256\",\"type\":\"Toolbar\"},{\"attributes\":{},\"id\":\"1312\",\"type\":\"Selection\"},{\"attributes\":{},\"id\":\"1251\",\"type\":\"WheelZoomTool\"},{\"attributes\":{},\"id\":\"1272\",\"type\":\"BasicTickFormatter\"},{\"attributes\":{},\"id\":\"1255\",\"type\":\"HelpTool\"},{\"attributes\":{\"overlay\":{\"id\":\"1286\",\"type\":\"BoxAnnotation\"}},\"id\":\"1252\",\"type\":\"BoxZoomTool\"},{\"attributes\":{},\"id\":\"1238\",\"type\":\"LinearScale\"},{\"attributes\":{\"days\":[1,2,3,4,5,6,7,8,9,10,11,12,13,14,15,16,17,18,19,20,21,22,23,24,25,26,27,28,29,30,31]},\"id\":\"1277\",\"type\":\"DaysTicker\"},{\"attributes\":{},\"id\":\"1253\",\"type\":\"SaveTool\"},{\"attributes\":{\"mantissas\":[1,2,5],\"max_interval\":500.0,\"num_minor_ticks\":0},\"id\":\"1274\",\"type\":\"AdaptiveTicker\"},{\"attributes\":{\"base\":24,\"mantissas\":[1,2,4,6,8,12],\"max_interval\":43200000.0,\"min_interval\":3600000.0,\"num_minor_ticks\":0},\"id\":\"1276\",\"type\":\"AdaptiveTicker\"},{\"attributes\":{},\"id\":\"1254\",\"type\":\"ResetTool\"},{\"attributes\":{\"data_source\":{\"id\":\"1004\",\"type\":\"ColumnDataSource\"},\"glyph\":{\"id\":\"1290\",\"type\":\"Line\"},\"hover_glyph\":null,\"muted_glyph\":{\"id\":\"1292\",\"type\":\"Line\"},\"nonselection_glyph\":{\"id\":\"1291\",\"type\":\"Line\"},\"selection_glyph\":null,\"view\":{\"id\":\"1294\",\"type\":\"CDSView\"}},\"id\":\"1293\",\"type\":\"GlyphRenderer\"},{\"attributes\":{\"months\":[0,1,2,3,4,5,6,7,8,9,10,11]},\"id\":\"1281\",\"type\":\"MonthsTicker\"},{\"attributes\":{\"source\":{\"id\":\"1003\",\"type\":\"ColumnDataSource\"}},\"id\":\"1268\",\"type\":\"CDSView\"},{\"attributes\":{\"num_minor_ticks\":5,\"tickers\":[{\"id\":\"1274\",\"type\":\"AdaptiveTicker\"},{\"id\":\"1275\",\"type\":\"AdaptiveTicker\"},{\"id\":\"1276\",\"type\":\"AdaptiveTicker\"},{\"id\":\"1277\",\"type\":\"DaysTicker\"},{\"id\":\"1278\",\"type\":\"DaysTicker\"},{\"id\":\"1279\",\"type\":\"DaysTicker\"},{\"id\":\"1280\",\"type\":\"DaysTicker\"},{\"id\":\"1281\",\"type\":\"MonthsTicker\"},{\"id\":\"1282\",\"type\":\"MonthsTicker\"},{\"id\":\"1283\",\"type\":\"MonthsTicker\"},{\"id\":\"1284\",\"type\":\"MonthsTicker\"},{\"id\":\"1285\",\"type\":\"YearsTicker\"}]},\"id\":\"1241\",\"type\":\"DatetimeTicker\"},{\"attributes\":{\"months\":[0,2,4,6,8,10]},\"id\":\"1282\",\"type\":\"MonthsTicker\"},{\"attributes\":{\"line_alpha\":0.2,\"line_color\":\"navy\",\"x\":{\"field\":\"time\"},\"y\":{\"field\":\"vals\"}},\"id\":\"1266\",\"type\":\"Line\"},{\"attributes\":{\"days\":[1,4,7,10,13,16,19,22,25,28]},\"id\":\"1278\",\"type\":\"DaysTicker\"},{\"attributes\":{\"days\":[1,15]},\"id\":\"1280\",\"type\":\"DaysTicker\"},{\"attributes\":{\"line_alpha\":0.1,\"line_color\":\"#1f77b4\",\"x\":{\"field\":\"time\"},\"y\":{\"field\":\"vals\"}},\"id\":\"1265\",\"type\":\"Line\"},{\"attributes\":{\"line_color\":\"navy\",\"x\":{\"field\":\"time\"},\"y\":{\"field\":\"vals\"}},\"id\":\"1264\",\"type\":\"Line\"},{\"attributes\":{\"months\":[0,6]},\"id\":\"1284\",\"type\":\"MonthsTicker\"},{\"attributes\":{\"label\":{\"value\":\"detided_obs\"},\"renderers\":[{\"id\":\"1267\",\"type\":\"GlyphRenderer\"}]},\"id\":\"1288\",\"type\":\"LegendItem\"},{\"attributes\":{\"callback\":null,\"data\":{\"time\":{\"__ndarray__\":\"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\",\"dtype\":\"float64\",\"shape\":[256]},\"vals\":{\"__ndarray__\":\"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\",\"dtype\":\"float64\",\"shape\":[256]}},\"selected\":{\"id\":\"1312\",\"type\":\"Selection\"},\"selection_policy\":{\"id\":\"1313\",\"type\":\"UnionRenderers\"}},\"id\":\"1003\",\"type\":\"ColumnDataSource\"},{\"attributes\":{\"days\":[1,8,15,22]},\"id\":\"1279\",\"type\":\"DaysTicker\"},{\"attributes\":{},\"id\":\"1285\",\"type\":\"YearsTicker\"},{\"attributes\":{\"data_source\":{\"id\":\"1003\",\"type\":\"ColumnDataSource\"},\"glyph\":{\"id\":\"1264\",\"type\":\"Line\"},\"hover_glyph\":null,\"muted_glyph\":{\"id\":\"1266\",\"type\":\"Line\"},\"nonselection_glyph\":{\"id\":\"1265\",\"type\":\"Line\"},\"selection_glyph\":null,\"view\":{\"id\":\"1268\",\"type\":\"CDSView\"}},\"id\":\"1267\",\"type\":\"GlyphRenderer\"},{\"attributes\":{\"months\":[0,4,8]},\"id\":\"1283\",\"type\":\"MonthsTicker\"},{\"attributes\":{\"click_policy\":\"mute\",\"items\":[{\"id\":\"1288\",\"type\":\"LegendItem\"},{\"id\":\"1315\",\"type\":\"LegendItem\"}]},\"id\":\"1287\",\"type\":\"Legend\"},{\"attributes\":{},\"id\":\"1236\",\"type\":\"LinearScale\"},{\"attributes\":{},\"id\":\"1246\",\"type\":\"BasicTicker\"},{\"attributes\":{},\"id\":\"1356\",\"type\":\"UnionRenderers\"},{\"attributes\":{\"line_color\":\"maroon\",\"x\":{\"field\":\"time\"},\"y\":{\"field\":\"vals\"}},\"id\":\"1290\",\"type\":\"Line\"},{\"attributes\":{},\"id\":\"1355\",\"type\":\"Selection\"},{\"attributes\":{\"line_alpha\":0.1,\"line_color\":\"#1f77b4\",\"x\":{\"field\":\"time\"},\"y\":{\"field\":\"vals\"}},\"id\":\"1291\",\"type\":\"Line\"},{\"attributes\":{\"ticker\":{\"id\":\"1241\",\"type\":\"DatetimeTicker\"}},\"id\":\"1244\",\"type\":\"Grid\"},{\"attributes\":{\"bottom_units\":\"screen\",\"fill_alpha\":{\"value\":0.5},\"fill_color\":{\"value\":\"lightgrey\"},\"left_units\":\"screen\",\"level\":\"overlay\",\"line_alpha\":{\"value\":1.0},\"line_color\":{\"value\":\"black\"},\"line_dash\":[4,4],\"line_width\":{\"value\":2},\"render_mode\":\"css\",\"right_units\":\"screen\",\"top_units\":\"screen\"},\"id\":\"1286\",\"type\":\"BoxAnnotation\"},{\"attributes\":{\"line_alpha\":0.2,\"line_color\":\"maroon\",\"x\":{\"field\":\"time\"},\"y\":{\"field\":\"vals\"}},\"id\":\"1292\",\"type\":\"Line\"},{\"attributes\":{\"base\":60,\"mantissas\":[1,2,5,10,15,20,30],\"max_interval\":1800000.0,\"min_interval\":1000.0,\"num_minor_ticks\":0},\"id\":\"1275\",\"type\":\"AdaptiveTicker\"},{\"attributes\":{\"source\":{\"id\":\"1004\",\"type\":\"ColumnDataSource\"}},\"id\":\"1294\",\"type\":\"CDSView\"},{\"attributes\":{\"axis_label\":\"Date\",\"formatter\":{\"id\":\"1270\",\"type\":\"DatetimeTickFormatter\"},\"ticker\":{\"id\":\"1241\",\"type\":\"DatetimeTicker\"}},\"id\":\"1240\",\"type\":\"DatetimeAxis\"},{\"attributes\":{},\"id\":\"1270\",\"type\":\"DatetimeTickFormatter\"},{\"attributes\":{\"label\":{\"value\":\"detided_mod\"},\"renderers\":[{\"id\":\"1293\",\"type\":\"GlyphRenderer\"}]},\"id\":\"1315\",\"type\":\"LegendItem\"},{\"attributes\":{\"axis_label\":\"Water level (m)\",\"formatter\":{\"id\":\"1272\",\"type\":\"BasicTickFormatter\"},\"ticker\":{\"id\":\"1246\",\"type\":\"BasicTicker\"}},\"id\":\"1245\",\"type\":\"LinearAxis\"},{\"attributes\":{\"callback\":null,\"data\":{\"time\":{\"__ndarray__\":\"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\",\"dtype\":\"float64\",\"shape\":[256]},\"vals\":{\"__ndarray__\":\"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\",\"dtype\":\"float64\",\"shape\":[256]}},\"selected\":{\"id\":\"1355\",\"type\":\"Selection\"},\"selection_policy\":{\"id\":\"1356\",\"type\":\"UnionRenderers\"}},\"id\":\"1004\",\"type\":\"ColumnDataSource\"},{\"attributes\":{\"callback\":null},\"id\":\"1232\",\"type\":\"DataRange1d\"},{\"attributes\":{\"text\":\"Detided observation vs detided model\"},\"id\":\"1230\",\"type\":\"Title\"},{\"attributes\":{\"dimension\":1,\"ticker\":{\"id\":\"1246\",\"type\":\"BasicTicker\"}},\"id\":\"1249\",\"type\":\"Grid\"}],\"root_ids\":[\"1229\"]},\"title\":\"Bokeh Application\",\"version\":\"1.4.0\"}};\n",
       "  var render_items = [{\"docid\":\"c87da61b-4290-4aa7-b7c7-ccd340ea9e2e\",\"roots\":{\"1229\":\"bef70d06-2f73-4416-8b02-e29f10908f6f\"}}];\n",
       "  root.Bokeh.embed.embed_items_notebook(docs_json, render_items);\n",
       "\n",
       "  }\n",
       "  if (root.Bokeh !== undefined) {\n",
       "    embed_document(root);\n",
       "  } else {\n",
       "    var attempts = 0;\n",
       "    var timer = setInterval(function(root) {\n",
       "      if (root.Bokeh !== undefined) {\n",
       "        clearInterval(timer);\n",
       "        embed_document(root);\n",
       "      } else {\n",
       "        attempts++;\n",
       "        if (attempts > 100) {\n",
       "          clearInterval(timer);\n",
       "          console.log(\"Bokeh: ERROR: Unable to run BokehJS code because BokehJS library is missing\");\n",
       "        }\n",
       "      }\n",
       "    }, 10, root)\n",
       "  }\n",
       "})(window);"
      ],
      "application/vnd.bokehjs_exec.v0+json": ""
     },
     "metadata": {
      "application/vnd.bokehjs_exec.v0+json": {
       "id": "1229"
      }
     },
     "output_type": "display_data"
    }
   ],
   "source": [
    "p_double = figure(plot_width=800, plot_height = 350,\n",
    "                  x_axis_type=\"datetime\", \n",
    "                  title=\"Detided observation vs detided model\")\n",
    "\n",
    "p_double.line(x=\"time\", y=\"vals\", line_color=\"navy\", line_dash=\"solid\", legend_label=\"detided_obs\", \n",
    "              muted_color=\"navy\", muted_alpha=0.2, source=src2)\n",
    "\n",
    "p_double.line(x=\"time\", y=\"vals\", line_color=\"maroon\", line_dash=\"solid\", legend_label=\"detided_mod\",\n",
    "              muted_color=\"maroon\", muted_alpha=0.2, source=src3)\n",
    "\n",
    "p_double.xaxis.axis_label = \"Date\"\n",
    "p_double.yaxis.axis_label = \"Water level (m)\"\n",
    "\n",
    "p_double.legend.click_policy=\"mute\"\n",
    "\n",
    "show(p_double)"
   ]
  },
  {
   "cell_type": "code",
   "execution_count": 34,
   "metadata": {
    "scrolled": false
   },
   "outputs": [
    {
     "data": {
      "text/html": [
       "\n",
       "\n",
       "\n",
       "\n",
       "\n",
       "\n",
       "  <div class=\"bk-root\" id=\"88d6830b-6e76-445e-b495-04f0f76df4f1\" data-root-id=\"9736\"></div>\n"
      ]
     },
     "metadata": {},
     "output_type": "display_data"
    },
    {
     "data": {
      "application/javascript": [
       "(function(root) {\n",
       "  function embed_document(root) {\n",
       "    \n",
       "  var docs_json = {\"73c1002a-b6c2-4ccd-ac95-267a26b04ecd\":{\"roots\":{\"references\":[{\"attributes\":{\"below\":[{\"id\":\"9747\",\"type\":\"LinearAxis\"}],\"center\":[{\"id\":\"9751\",\"type\":\"Grid\"},{\"id\":\"9756\",\"type\":\"Grid\"},{\"id\":\"9782\",\"type\":\"Legend\"},{\"id\":\"9876\",\"type\":\"Span\"},{\"id\":\"9877\",\"type\":\"Span\"},{\"id\":\"9878\",\"type\":\"Span\"}],\"left\":[{\"id\":\"9752\",\"type\":\"LogAxis\"}],\"plot_height\":350,\"plot_width\":800,\"renderers\":[{\"id\":\"9774\",\"type\":\"GlyphRenderer\"},{\"id\":\"9788\",\"type\":\"GlyphRenderer\"},{\"id\":\"9803\",\"type\":\"GlyphRenderer\"},{\"id\":\"9819\",\"type\":\"GlyphRenderer\"},{\"id\":\"9837\",\"type\":\"GlyphRenderer\"},{\"id\":\"9857\",\"type\":\"GlyphRenderer\"},{\"id\":\"9881\",\"type\":\"GlyphRenderer\"}],\"title\":{\"id\":\"9737\",\"type\":\"Title\"},\"toolbar\":{\"id\":\"9763\",\"type\":\"Toolbar\"},\"x_range\":{\"id\":\"9739\",\"type\":\"DataRange1d\"},\"x_scale\":{\"id\":\"9743\",\"type\":\"LinearScale\"},\"y_range\":{\"id\":\"9741\",\"type\":\"DataRange1d\"},\"y_scale\":{\"id\":\"9745\",\"type\":\"LogScale\"}},\"id\":\"9736\",\"subtype\":\"Figure\",\"type\":\"Plot\"},{\"attributes\":{},\"id\":\"1567\",\"type\":\"UnionRenderers\"},{\"attributes\":{\"bottom_units\":\"screen\",\"fill_alpha\":{\"value\":0.5},\"fill_color\":{\"value\":\"lightgrey\"},\"left_units\":\"screen\",\"level\":\"overlay\",\"line_alpha\":{\"value\":1.0},\"line_color\":{\"value\":\"black\"},\"line_dash\":[4,4],\"line_width\":{\"value\":2},\"render_mode\":\"css\",\"right_units\":\"screen\",\"top_units\":\"screen\"},\"id\":\"9781\",\"type\":\"BoxAnnotation\"},{\"attributes\":{},\"id\":\"9850\",\"type\":\"Selection\"},{\"attributes\":{},\"id\":\"9851\",\"type\":\"UnionRenderers\"},{\"attributes\":{\"line_color\":\"maroon\",\"x\":{\"field\":\"freq\"},\"y\":{\"field\":\"vals\"}},\"id\":\"9785\",\"type\":\"Line\"},{\"attributes\":{\"line_alpha\":0.1,\"line_color\":\"#1f77b4\",\"x\":{\"field\":\"freq\"},\"y\":{\"field\":\"vals\"}},\"id\":\"9786\",\"type\":\"Line\"},{\"attributes\":{},\"id\":\"9872\",\"type\":\"Selection\"},{\"attributes\":{},\"id\":\"9743\",\"type\":\"LinearScale\"},{\"attributes\":{\"data_source\":{\"id\":\"1007\",\"type\":\"ColumnDataSource\"},\"glyph\":{\"id\":\"9800\",\"type\":\"Line\"},\"hover_glyph\":null,\"muted_glyph\":{\"id\":\"9802\",\"type\":\"Line\"},\"nonselection_glyph\":{\"id\":\"9801\",\"type\":\"Line\"},\"selection_glyph\":null,\"view\":{\"id\":\"9804\",\"type\":\"CDSView\"}},\"id\":\"9803\",\"type\":\"GlyphRenderer\"},{\"attributes\":{\"angle\":{\"units\":\"rad\",\"value\":1.5707963267948966},\"length\":{\"units\":\"data\",\"value\":0},\"line_alpha\":{\"value\":0.1},\"line_color\":{\"value\":\"#1f77b4\"},\"line_dash\":[6],\"x\":{\"field\":\"x\"},\"y\":{\"field\":\"y\"}},\"id\":\"9856\",\"type\":\"Ray\"},{\"attributes\":{\"dimension\":\"height\",\"line_color\":{\"value\":\"hotpink\"},\"line_dash\":[6],\"location\":0.020833333333333332},\"id\":\"9876\",\"type\":\"Span\"},{\"attributes\":{\"line_alpha\":0.2,\"line_color\":\"maroon\",\"x\":{\"field\":\"freq\"},\"y\":{\"field\":\"vals\"}},\"id\":\"9787\",\"type\":\"Line\"},{\"attributes\":{\"data_source\":{\"id\":\"9854\",\"type\":\"ColumnDataSource\"},\"glyph\":{\"id\":\"9855\",\"type\":\"Ray\"},\"hover_glyph\":null,\"muted_glyph\":null,\"nonselection_glyph\":{\"id\":\"9856\",\"type\":\"Ray\"},\"selection_glyph\":null,\"view\":{\"id\":\"9858\",\"type\":\"CDSView\"}},\"id\":\"9857\",\"type\":\"GlyphRenderer\"},{\"attributes\":{\"source\":{\"id\":\"1006\",\"type\":\"ColumnDataSource\"}},\"id\":\"9789\",\"type\":\"CDSView\"},{\"attributes\":{},\"id\":\"9745\",\"type\":\"LogScale\"},{\"attributes\":{\"line_color\":\"forestgreen\",\"x\":{\"field\":\"freq\"},\"y\":{\"field\":\"vals\"}},\"id\":\"9800\",\"type\":\"Line\"},{\"attributes\":{},\"id\":\"9873\",\"type\":\"UnionRenderers\"},{\"attributes\":{\"label\":{\"value\":\"detided_obs\"},\"renderers\":[{\"id\":\"9788\",\"type\":\"GlyphRenderer\"}]},\"id\":\"9798\",\"type\":\"LegendItem\"},{\"attributes\":{\"source\":{\"id\":\"9854\",\"type\":\"ColumnDataSource\"}},\"id\":\"9858\",\"type\":\"CDSView\"},{\"attributes\":{\"data_source\":{\"id\":\"1005\",\"type\":\"ColumnDataSource\"},\"glyph\":{\"id\":\"9771\",\"type\":\"Line\"},\"hover_glyph\":null,\"muted_glyph\":{\"id\":\"9773\",\"type\":\"Line\"},\"nonselection_glyph\":{\"id\":\"9772\",\"type\":\"Line\"},\"selection_glyph\":null,\"view\":{\"id\":\"9775\",\"type\":\"CDSView\"}},\"id\":\"9774\",\"type\":\"GlyphRenderer\"},{\"attributes\":{\"callback\":null,\"data\":{\"freq\":[0.0,0.00390625,0.0078125,0.01171875,0.015625,0.01953125,0.0234375,0.02734375,0.03125,0.03515625,0.0390625,0.04296875,0.046875,0.05078125,0.0546875,0.05859375,0.0625,0.06640625,0.0703125,0.07421875,0.078125,0.08203125,0.0859375,0.08984375,0.09375,0.09765625,0.1015625,0.10546875,0.109375,0.11328125,0.1171875,0.12109375,0.125,0.12890625,0.1328125,0.13671875,0.140625,0.14453125,0.1484375,0.15234375,0.15625,0.16015625,0.1640625,0.16796875,0.171875,0.17578125,0.1796875,0.18359375,0.1875,0.19140625,0.1953125,0.19921875,0.203125,0.20703125,0.2109375,0.21484375,0.21875,0.22265625,0.2265625,0.23046875,0.234375,0.23828125,0.2421875,0.24609375,0.25,0.25390625,0.2578125,0.26171875,0.265625,0.26953125,0.2734375,0.27734375,0.28125,0.28515625,0.2890625,0.29296875,0.296875,0.30078125,0.3046875,0.30859375,0.3125,0.31640625,0.3203125,0.32421875,0.328125,0.33203125,0.3359375,0.33984375,0.34375,0.34765625,0.3515625,0.35546875,0.359375,0.36328125,0.3671875,0.37109375,0.375,0.37890625,0.3828125,0.38671875,0.390625,0.39453125,0.3984375,0.40234375,0.40625,0.41015625,0.4140625,0.41796875,0.421875,0.42578125,0.4296875,0.43359375,0.4375,0.44140625,0.4453125,0.44921875,0.453125,0.45703125,0.4609375,0.46484375,0.46875,0.47265625,0.4765625,0.48046875,0.484375,0.48828125,0.4921875,0.49609375,0.5],\"vals\":{\"__ndarray__\":\"Wu5tne0MEEB+mfK97FPAP54+jUxnwbc/3ld7bgVCoD+qwo/6NIDQP3MiaHMAc8o/9Mx3vdAjxT/Y5dlvM6bBPyxlYq6cq88/kwV/9iwT0z88vpcHdJq7P2PfZzhW9dM/RYwtVGIkxj/bgy1MY5fDPzyE9adqxtI/+eo2XmVtwD9HoLQ0a661P7GJNybfp9M/PGCvfyDyvj8fOsnMIsTAP4gni1Veo7Y/1UusOXybyT/hY+EfhZrKP0Ed24eV6M4/i7WB3GiD1T8IyB1CUszUPwYzjnT3C9g/0CH0oP4/0T/mWGjkccbKP+2R+pIIjNY/RkjKplJ+wj8z+gy99SPeP551mfXoIM0/pSAhBdmm4z+N1GAMeq/kP+yiDfsp6eg/cQ63iTIO8j9M8DiyF0j5P3gdC4kYrBdAYP687TwYEECz6uSgkZH3PyShYc99l+4/fitCqhat5j9Z0fdrJIPjPzZPyIRxTtU/eytWIY/k3j+ORgoq6wHUPyvd5kokhNM/qGxGIo8U1D9ezd+n92HPP7nScvmwV80/ccIrHtAs0j9RikohtSLAP0Uu7uciPdU/aRhj+tNAwT/7dGe+nESrP7lNYi7nO6I/bQ1rpDMZxT/tnO7fEN6vP3M0sWcfVbw/nUdZa+xioj+j8Adzj92hP2jxUv+2jas/fDXKNnhWyz/IKNMcJjjRP8NEd4z7tsA/pVhRDSZ5oT8/BxiqjlPGP7ah+EZew7c/+ytypmATxD9eOgTTizDJP71NNftgT6w/yZp9FFqFoz+9LItm6qzCPwJaM5zzcco/zuxbr2KhwT8onN40NCLPP++KkxHMqLw/RcymUwev1j8+QvXervTAP4hqtSqqUNA/sR0lj3kYpz/3FxxCIwfDP5Q1rM+fwMo/fcKsLgrgvT+qq2hOPBvCP4GcMTNRt7k/el72ScSUuj9bDXn//OOlP6oSXw6M/rk/BnlEAUnzuz/KrSRMUPHPP0q4yhvxBKk/ZbDic4wFxz+e4gOtiT28P4VWYWkogbo//hjgepqonz8EATOBoXOoP9EqiaOfdLY/ecBXuScjyT/AbRrsBjq1PwThYJRHM8c/4tUnTVbjyT/pV9q0ZOHJP80Srod0HMA/RIi7eScnvz+CHVCwvZS3P8H4FeDpW7c/XdXAp9supj9oCsgjubrTP8ucxtypw8E/v266c0q4tj+MsvxIk7+5P6BH/H/2ybM/iES4KFTMxD/55NI/6DTCP7jGUysdrLU/nD0dMllQmj9oCGcynFe1P2Yc0sMrl8Q/zFULwhkUtT++9RtXuVzGP3OSvh/irL4/irL86Vbdxz824KgeJd3BP5/ogA/ombU/xCnxTcaerj9kmvcLoue/P3C6MkAQirw/\",\"dtype\":\"float64\",\"shape\":[129]}},\"selected\":{\"id\":\"1566\",\"type\":\"Selection\"},\"selection_policy\":{\"id\":\"1567\",\"type\":\"UnionRenderers\"}},\"id\":\"1006\",\"type\":\"ColumnDataSource\"},{\"attributes\":{\"callback\":null,\"data\":{\"text\":[\"\\u03c3 = 1\",\"\\u03b3\\u00b2 = 2\"],\"x\":[0.48,0.48],\"y\":[1.3,1]},\"selected\":{\"id\":\"10288\",\"type\":\"Selection\"},\"selection_policy\":{\"id\":\"10289\",\"type\":\"UnionRenderers\"}},\"id\":\"9879\",\"type\":\"ColumnDataSource\"},{\"attributes\":{\"label\":{\"value\":\"12H\"},\"renderers\":[{\"id\":\"9857\",\"type\":\"GlyphRenderer\"}]},\"id\":\"9875\",\"type\":\"LegendItem\"},{\"attributes\":{\"angle\":{\"units\":\"rad\",\"value\":1.5707963267948966},\"length\":{\"units\":\"data\",\"value\":0},\"line_color\":{\"value\":\"darkviolet\"},\"line_dash\":[6],\"x\":{\"field\":\"x\"},\"y\":{\"field\":\"y\"}},\"id\":\"9855\",\"type\":\"Ray\"},{\"attributes\":{\"ticker\":null},\"id\":\"9779\",\"type\":\"LogTickFormatter\"},{\"attributes\":{\"data_source\":{\"id\":\"1006\",\"type\":\"ColumnDataSource\"},\"glyph\":{\"id\":\"9785\",\"type\":\"Line\"},\"hover_glyph\":null,\"muted_glyph\":{\"id\":\"9787\",\"type\":\"Line\"},\"nonselection_glyph\":{\"id\":\"9786\",\"type\":\"Line\"},\"selection_glyph\":null,\"view\":{\"id\":\"9789\",\"type\":\"CDSView\"}},\"id\":\"9788\",\"type\":\"GlyphRenderer\"},{\"attributes\":{},\"id\":\"1584\",\"type\":\"Selection\"},{\"attributes\":{\"num_minor_ticks\":10},\"id\":\"9753\",\"type\":\"LogTicker\"},{\"attributes\":{},\"id\":\"1585\",\"type\":\"UnionRenderers\"},{\"attributes\":{\"data_source\":{\"id\":\"9834\",\"type\":\"ColumnDataSource\"},\"glyph\":{\"id\":\"9835\",\"type\":\"Ray\"},\"hover_glyph\":null,\"muted_glyph\":null,\"nonselection_glyph\":{\"id\":\"9836\",\"type\":\"Ray\"},\"selection_glyph\":null,\"view\":{\"id\":\"9838\",\"type\":\"CDSView\"}},\"id\":\"9837\",\"type\":\"GlyphRenderer\"},{\"attributes\":{\"label\":{\"value\":\"48H\"},\"renderers\":[{\"id\":\"9819\",\"type\":\"GlyphRenderer\"}]},\"id\":\"9833\",\"type\":\"LegendItem\"},{\"attributes\":{\"text\":\"Discrete fourier transform of observation/model outputs\"},\"id\":\"9737\",\"type\":\"Title\"},{\"attributes\":{\"line_color\":\"navy\",\"x\":{\"field\":\"freq\"},\"y\":{\"field\":\"vals\"}},\"id\":\"9771\",\"type\":\"Line\"},{\"attributes\":{\"callback\":null},\"id\":\"9741\",\"type\":\"DataRange1d\"},{\"attributes\":{\"axis_label\":\"Frequency (h^-1)\",\"formatter\":{\"id\":\"9777\",\"type\":\"BasicTickFormatter\"},\"ticker\":{\"id\":\"9748\",\"type\":\"BasicTicker\"}},\"id\":\"9747\",\"type\":\"LinearAxis\"},{\"attributes\":{\"callback\":null,\"data\":{\"freq\":[0.0,0.00390625,0.0078125,0.01171875,0.015625,0.01953125,0.0234375,0.02734375,0.03125,0.03515625,0.0390625,0.04296875,0.046875,0.05078125,0.0546875,0.05859375,0.0625,0.06640625,0.0703125,0.07421875,0.078125,0.08203125,0.0859375,0.08984375,0.09375,0.09765625,0.1015625,0.10546875,0.109375,0.11328125,0.1171875,0.12109375,0.125,0.12890625,0.1328125,0.13671875,0.140625,0.14453125,0.1484375,0.15234375,0.15625,0.16015625,0.1640625,0.16796875,0.171875,0.17578125,0.1796875,0.18359375,0.1875,0.19140625,0.1953125,0.19921875,0.203125,0.20703125,0.2109375,0.21484375,0.21875,0.22265625,0.2265625,0.23046875,0.234375,0.23828125,0.2421875,0.24609375,0.25,0.25390625,0.2578125,0.26171875,0.265625,0.26953125,0.2734375,0.27734375,0.28125,0.28515625,0.2890625,0.29296875,0.296875,0.30078125,0.3046875,0.30859375,0.3125,0.31640625,0.3203125,0.32421875,0.328125,0.33203125,0.3359375,0.33984375,0.34375,0.34765625,0.3515625,0.35546875,0.359375,0.36328125,0.3671875,0.37109375,0.375,0.37890625,0.3828125,0.38671875,0.390625,0.39453125,0.3984375,0.40234375,0.40625,0.41015625,0.4140625,0.41796875,0.421875,0.42578125,0.4296875,0.43359375,0.4375,0.44140625,0.4453125,0.44921875,0.453125,0.45703125,0.4609375,0.46484375,0.46875,0.47265625,0.4765625,0.48046875,0.484375,0.48828125,0.4921875,0.49609375,0.5],\"vals\":{\"__ndarray__\":\"shdONZrSEEAMN0XTpT7OP/rxtPug2p4/KQM+fhqHxD9lAr8HuHK3P5JQpr0YhcY/qRBVGRzlzT+96CGRJwq8P9ms9eg3QJ4/lxw8msKWwT99z+Af2VS6P7bnXEMfj8I/xu1XLT+awT/W6nA506nIPwGf7+J8/Lw/s7ykwWsywz8WHU/or1LBP2VJtVzL28I/nskQPLCLtT8U2ToJwt2/PygFxHKW0sk/dKRQ78yGyj/gkdQQTRnMPz+OOWdkErQ/ch5FOHky2D8tGOhjZYDCP6ikCAp2AdA/p+OSLZ1EsD9nMCsSSs3NP7UBwwr3hdM/M79CUDlvyz+KYg4+OabbP3jkrt1TdN4/GKzrfwsP4T+ilLPg6K/ePwMTc6lVI+Q/U2KKDopc6j/LfWEZ9Ln4Pxhc167D1hdAoFPw3dtaEEBmxvuKJdH2P32yutMDve0/ng2bTANJ6j/zhF6jGgLcP4/2Jhuj9No/a3x6qr0m2j9hfXp0gWDSPzChVnmqcs4/iPbbRu1q0T+I+UVm8czKP4qhJ6+yF9A/d3FWn96MuT8O2ki/pLnVP4xGzNT4VdA/FtKoXGOqwT+0Di59khHOP74Wec45VLs/G8NDwyKZvz+Q6npTdJ++P4HOe6VuWrw/djcfR/rIzj84dCsm8zvDP2vHQUedsrw/bWZfRgtbxD//2NVztOrRP3RY1w/Q2aQ/mo1XNWjBxz+PhfPc1QvDP7NvxAj+37Q/vlB4s3U2xj9VqSBDVLvOP8ZvctV5f74/e4d26Hpmyz/danL6csm3PxYk1aFV58s/IrQycA4DxD8bU6YS4eXLP22hj4HiAMM/c5nWomA1oD8hRA1BuNjDP0ISLz4hJcE/ozy/jc1VsT+vbifWAObEPzeVfFV8c78/YCzf2i7+1T/sdPF/ITG4P4lLZhgiUKc/6qXScaVSxj9CB1gvZVbSP2kR27d50JU/d2EJWTj2zD+iXRi1neG4P2R26blE8sI/WW5FVVhquj9e1CIHrn7BP9yrksymFNI//S013t2hrj/FHkox7+jPP/xEIBpY98o/cRgulGBD0D/W+HrQF+zHP1Ngl4DoSbw/qDYPw1aFwT83NIvc51ajP7cNaZYKRM4/9cGeGO/oyT83QBBlV3bRPxDVbDcWdbw/m4x3dXp8rz/2oL36lTSrP7OihNODfMw/Y1/GJ7zStj/2CVy52eC+P0S18OtIiJ8/3A+o/N+usj/Flt9EMMi1P5pVrBxpkKk/aU1G7PKkxz/aBiTVECKtP1vU9GLP6s0/KdMJrS/myD9Nsl7HF/y0P9kx4g1uVtE/VgjSjnJ2zD+dXRHsGmHHP5mXqFwa3bc/ZKexlN4ZvT+CScBkMO66PwC42P/zNbY/\",\"dtype\":\"float64\",\"shape\":[129]}},\"selected\":{\"id\":\"1584\",\"type\":\"Selection\"},\"selection_policy\":{\"id\":\"1585\",\"type\":\"UnionRenderers\"}},\"id\":\"1007\",\"type\":\"ColumnDataSource\"},{\"attributes\":{\"text_font_size\":{\"value\":\"10pt\"},\"x\":{\"field\":\"x\"},\"y\":{\"field\":\"y\"}},\"id\":\"9880\",\"type\":\"Text\"},{\"attributes\":{\"dimension\":\"height\",\"line_color\":{\"value\":\"darkviolet\"},\"line_dash\":[6],\"location\":0.08333333333333333},\"id\":\"9878\",\"type\":\"Span\"},{\"attributes\":{},\"id\":\"9748\",\"type\":\"BasicTicker\"},{\"attributes\":{\"callback\":null,\"data\":{\"freq\":[0.0,0.00390625,0.0078125,0.01171875,0.015625,0.01953125,0.0234375,0.02734375,0.03125,0.03515625,0.0390625,0.04296875,0.046875,0.05078125,0.0546875,0.05859375,0.0625,0.06640625,0.0703125,0.07421875,0.078125,0.08203125,0.0859375,0.08984375,0.09375,0.09765625,0.1015625,0.10546875,0.109375,0.11328125,0.1171875,0.12109375,0.125,0.12890625,0.1328125,0.13671875,0.140625,0.14453125,0.1484375,0.15234375,0.15625,0.16015625,0.1640625,0.16796875,0.171875,0.17578125,0.1796875,0.18359375,0.1875,0.19140625,0.1953125,0.19921875,0.203125,0.20703125,0.2109375,0.21484375,0.21875,0.22265625,0.2265625,0.23046875,0.234375,0.23828125,0.2421875,0.24609375,0.25,0.25390625,0.2578125,0.26171875,0.265625,0.26953125,0.2734375,0.27734375,0.28125,0.28515625,0.2890625,0.29296875,0.296875,0.30078125,0.3046875,0.30859375,0.3125,0.31640625,0.3203125,0.32421875,0.328125,0.33203125,0.3359375,0.33984375,0.34375,0.34765625,0.3515625,0.35546875,0.359375,0.36328125,0.3671875,0.37109375,0.375,0.37890625,0.3828125,0.38671875,0.390625,0.39453125,0.3984375,0.40234375,0.40625,0.41015625,0.4140625,0.41796875,0.421875,0.42578125,0.4296875,0.43359375,0.4375,0.44140625,0.4453125,0.44921875,0.453125,0.45703125,0.4609375,0.46484375,0.46875,0.47265625,0.4765625,0.48046875,0.484375,0.48828125,0.4921875,0.49609375,0.5],\"vals\":{\"__ndarray__\":\"uGwgIyx1EEBhdU5rigvGP/pEGV2yesM/0f0zzkFKtD8mbcD5u0PKPxChvAl5NM8/M9WdtGFxvz/FAAR95bLLP7OpvXxqpsc/we80bk3fyT8mHyDSDPnSPxwXiXhn2NI/jcvE0TXywz9N/O1LqCnRP6HuN22kj8M/btSDdKtTxj+oOhsmxhnNP+Nad/buaLo/eFkw/9OhyD+e04cYY+fWPxacHYlCt7M/kJ7uSvVbyj+Ma294nbnWP7Nlw0rgtME/85FKnm16zz/ehzbRsJ6ZP10+zTehQ9Q/rAJNvqqnnD8GLTiCtiHGP0oUIVjA78Y/yxMejU39zj8FV5Peh3LaP1oa/mDlF9E/gwKe7Up7zj/V+3Gz0i7XP9CqVwLlI+w/oidezhW88j9jmKz4xlv8Px4y9vc8WRhAdmP4fXKpEEAZlPpJarb3P5E+MvDi5+o/FGvpuEPl2z9KMhgMTm7hP/LKmZbrP+E/ljMXY+wb1D8asGzHG1DYP5Ix7oc4INE/6o8/MxGCwz+1NnvsrDrKP+gSyCqKKMg/+Tf9lVtBxz/5tJXvHsm8P+jbh1uy6cY/xTdm3IZCwz+aOjlD3MK9PySk57Zej9A/AWtphY2otT8BSAanmfvSPzdNGLWnZrM/ieI4vCnu0T8skgKNIf68P3CPekg0TMI/OsVLtZ1qoj/Lm4oCqfbDP6yMcsdGXLA/LTnAHXSgwD9DQuqPpWmyP4n2u6mzjrk/0QcNH4cCwD+M63c8gE/CPwiZcfHHy74/NHRXROxtxD/8Fqc2587AP8VWJh0IU8U/rYd82Pbhxz+wpKoJZVO5P6pUTB66wMk/lNEDSkB2rD/kH+xAjvHAP7+hPsz9lc0/ORLK4TpLlT9C1NR0cCCnP+6bJZnYV7E/uMOcnkHExT+26zN1agq4P8OdUlnGesI/5m0prXXEtD8WtJjojbXAP531Rt5zNaI/JJyy0Qcevz/BrvnqesDDP5NZlXHSvrE/NcPZf3FVwz/3YXNE/5G1P/BnlsrMMcU/eFXpNZjQzT+mxPBNg0zGPwqUzOptdbs/pgKJEXolpj98ZCbloXDEP4UKaSP53Lo/mospattosT8N3S7ZUmTEP11l4OpD6aM/hbchq3qnxT+4+u/4dx+wP7YG0SxjS7k/3g5OXmSIwD/wCwmoqOzFP/zRDDio6aw/YK7fxHaSsz8G4hFxh3vGP6nUjgObV58/ltmTsFNR0z+OxcAJA6mzPx+BpouiQcQ/g0O4Zl+vxz8BeSSue+6/P4Y6h1GNtrw/xUe0g6FUtT/OSf4gvD6rP+NXz6SJqLg/p2//pruHvT/QIskiknu5PyuWkXwqdsI/m1oNdK0ewz99eCWrEKLAP0Sg1GSGy9k/\",\"dtype\":\"float64\",\"shape\":[129]}},\"selected\":{\"id\":\"1549\",\"type\":\"Selection\"},\"selection_policy\":{\"id\":\"1550\",\"type\":\"UnionRenderers\"}},\"id\":\"1005\",\"type\":\"ColumnDataSource\"},{\"attributes\":{\"dimension\":\"height\",\"line_color\":{\"value\":\"springgreen\"},\"line_dash\":[6],\"location\":0.041666666666666664},\"id\":\"9877\",\"type\":\"Span\"},{\"attributes\":{\"active_drag\":\"auto\",\"active_inspect\":\"auto\",\"active_multi\":null,\"active_scroll\":\"auto\",\"active_tap\":\"auto\",\"tools\":[{\"id\":\"9757\",\"type\":\"PanTool\"},{\"id\":\"9758\",\"type\":\"WheelZoomTool\"},{\"id\":\"9759\",\"type\":\"BoxZoomTool\"},{\"id\":\"9760\",\"type\":\"SaveTool\"},{\"id\":\"9761\",\"type\":\"ResetTool\"},{\"id\":\"9762\",\"type\":\"HelpTool\"}]},\"id\":\"9763\",\"type\":\"Toolbar\"},{\"attributes\":{\"callback\":null,\"data\":{\"x\":[0],\"y\":[0]},\"selected\":{\"id\":\"9850\",\"type\":\"Selection\"},\"selection_policy\":{\"id\":\"9851\",\"type\":\"UnionRenderers\"}},\"id\":\"9816\",\"type\":\"ColumnDataSource\"},{\"attributes\":{\"ticker\":{\"id\":\"9748\",\"type\":\"BasicTicker\"}},\"id\":\"9751\",\"type\":\"Grid\"},{\"attributes\":{\"source\":{\"id\":\"1007\",\"type\":\"ColumnDataSource\"}},\"id\":\"9804\",\"type\":\"CDSView\"},{\"attributes\":{\"data_source\":{\"id\":\"9879\",\"type\":\"ColumnDataSource\"},\"glyph\":{\"id\":\"9880\",\"type\":\"Text\"},\"hover_glyph\":null,\"muted_glyph\":null,\"view\":{\"id\":\"9882\",\"type\":\"CDSView\"}},\"id\":\"9881\",\"type\":\"GlyphRenderer\"},{\"attributes\":{\"source\":{\"id\":\"9879\",\"type\":\"ColumnDataSource\"}},\"id\":\"9882\",\"type\":\"CDSView\"},{\"attributes\":{\"formatter\":{\"id\":\"9779\",\"type\":\"LogTickFormatter\"},\"ticker\":{\"id\":\"9753\",\"type\":\"LogTicker\"}},\"id\":\"9752\",\"type\":\"LogAxis\"},{\"attributes\":{\"dimension\":1,\"ticker\":{\"id\":\"9753\",\"type\":\"LogTicker\"}},\"id\":\"9756\",\"type\":\"Grid\"},{\"attributes\":{\"line_alpha\":0.1,\"line_color\":\"#1f77b4\",\"x\":{\"field\":\"freq\"},\"y\":{\"field\":\"vals\"}},\"id\":\"9801\",\"type\":\"Line\"},{\"attributes\":{\"angle\":{\"units\":\"rad\",\"value\":1.5707963267948966},\"length\":{\"units\":\"data\",\"value\":0},\"line_color\":{\"value\":\"hotpink\"},\"line_dash\":[6],\"x\":{\"field\":\"x\"},\"y\":{\"field\":\"y\"}},\"id\":\"9817\",\"type\":\"Ray\"},{\"attributes\":{},\"id\":\"9758\",\"type\":\"WheelZoomTool\"},{\"attributes\":{\"line_alpha\":0.2,\"line_color\":\"forestgreen\",\"x\":{\"field\":\"freq\"},\"y\":{\"field\":\"vals\"}},\"id\":\"9802\",\"type\":\"Line\"},{\"attributes\":{},\"id\":\"9757\",\"type\":\"PanTool\"},{\"attributes\":{},\"id\":\"9762\",\"type\":\"HelpTool\"},{\"attributes\":{\"label\":{\"value\":\"detided_mod\"},\"renderers\":[{\"id\":\"9803\",\"type\":\"GlyphRenderer\"}]},\"id\":\"9815\",\"type\":\"LegendItem\"},{\"attributes\":{\"overlay\":{\"id\":\"9781\",\"type\":\"BoxAnnotation\"}},\"id\":\"9759\",\"type\":\"BoxZoomTool\"},{\"attributes\":{\"angle\":{\"units\":\"rad\",\"value\":1.5707963267948966},\"length\":{\"units\":\"data\",\"value\":0},\"line_alpha\":{\"value\":0.1},\"line_color\":{\"value\":\"#1f77b4\"},\"line_dash\":[6],\"x\":{\"field\":\"x\"},\"y\":{\"field\":\"y\"}},\"id\":\"9818\",\"type\":\"Ray\"},{\"attributes\":{},\"id\":\"9760\",\"type\":\"SaveTool\"},{\"attributes\":{},\"id\":\"10287\",\"type\":\"UnionRenderers\"},{\"attributes\":{},\"id\":\"9761\",\"type\":\"ResetTool\"},{\"attributes\":{\"source\":{\"id\":\"1005\",\"type\":\"ColumnDataSource\"}},\"id\":\"9775\",\"type\":\"CDSView\"},{\"attributes\":{\"line_alpha\":0.2,\"line_color\":\"navy\",\"x\":{\"field\":\"freq\"},\"y\":{\"field\":\"vals\"}},\"id\":\"9773\",\"type\":\"Line\"},{\"attributes\":{\"line_alpha\":0.1,\"line_color\":\"#1f77b4\",\"x\":{\"field\":\"freq\"},\"y\":{\"field\":\"vals\"}},\"id\":\"9772\",\"type\":\"Line\"},{\"attributes\":{\"label\":{\"value\":\"raw_obs\"},\"renderers\":[{\"id\":\"9774\",\"type\":\"GlyphRenderer\"}]},\"id\":\"9783\",\"type\":\"LegendItem\"},{\"attributes\":{},\"id\":\"10286\",\"type\":\"Selection\"},{\"attributes\":{\"callback\":null,\"data\":{\"x\":[0],\"y\":[0]},\"selected\":{\"id\":\"9872\",\"type\":\"Selection\"},\"selection_policy\":{\"id\":\"9873\",\"type\":\"UnionRenderers\"}},\"id\":\"9834\",\"type\":\"ColumnDataSource\"},{\"attributes\":{\"click_policy\":\"mute\",\"items\":[{\"id\":\"9783\",\"type\":\"LegendItem\"},{\"id\":\"9798\",\"type\":\"LegendItem\"},{\"id\":\"9815\",\"type\":\"LegendItem\"},{\"id\":\"9833\",\"type\":\"LegendItem\"},{\"id\":\"9853\",\"type\":\"LegendItem\"},{\"id\":\"9875\",\"type\":\"LegendItem\"}]},\"id\":\"9782\",\"type\":\"Legend\"},{\"attributes\":{\"data_source\":{\"id\":\"9816\",\"type\":\"ColumnDataSource\"},\"glyph\":{\"id\":\"9817\",\"type\":\"Ray\"},\"hover_glyph\":null,\"muted_glyph\":null,\"nonselection_glyph\":{\"id\":\"9818\",\"type\":\"Ray\"},\"selection_glyph\":null,\"view\":{\"id\":\"9820\",\"type\":\"CDSView\"}},\"id\":\"9819\",\"type\":\"GlyphRenderer\"},{\"attributes\":{\"angle\":{\"units\":\"rad\",\"value\":1.5707963267948966},\"length\":{\"units\":\"data\",\"value\":0},\"line_color\":{\"value\":\"springgreen\"},\"line_dash\":[6],\"x\":{\"field\":\"x\"},\"y\":{\"field\":\"y\"}},\"id\":\"9835\",\"type\":\"Ray\"},{\"attributes\":{\"source\":{\"id\":\"9816\",\"type\":\"ColumnDataSource\"}},\"id\":\"9820\",\"type\":\"CDSView\"},{\"attributes\":{},\"id\":\"10288\",\"type\":\"Selection\"},{\"attributes\":{},\"id\":\"10289\",\"type\":\"UnionRenderers\"},{\"attributes\":{},\"id\":\"9777\",\"type\":\"BasicTickFormatter\"},{\"attributes\":{\"label\":{\"value\":\"24H\"},\"renderers\":[{\"id\":\"9837\",\"type\":\"GlyphRenderer\"}]},\"id\":\"9853\",\"type\":\"LegendItem\"},{\"attributes\":{\"callback\":null,\"data\":{\"x\":[0],\"y\":[0]},\"selected\":{\"id\":\"10286\",\"type\":\"Selection\"},\"selection_policy\":{\"id\":\"10287\",\"type\":\"UnionRenderers\"}},\"id\":\"9854\",\"type\":\"ColumnDataSource\"},{\"attributes\":{\"source\":{\"id\":\"9834\",\"type\":\"ColumnDataSource\"}},\"id\":\"9838\",\"type\":\"CDSView\"},{\"attributes\":{\"angle\":{\"units\":\"rad\",\"value\":1.5707963267948966},\"length\":{\"units\":\"data\",\"value\":0},\"line_alpha\":{\"value\":0.1},\"line_color\":{\"value\":\"#1f77b4\"},\"line_dash\":[6],\"x\":{\"field\":\"x\"},\"y\":{\"field\":\"y\"}},\"id\":\"9836\",\"type\":\"Ray\"},{\"attributes\":{},\"id\":\"1549\",\"type\":\"Selection\"},{\"attributes\":{},\"id\":\"1550\",\"type\":\"UnionRenderers\"},{\"attributes\":{\"callback\":null},\"id\":\"9739\",\"type\":\"DataRange1d\"},{\"attributes\":{},\"id\":\"1566\",\"type\":\"Selection\"}],\"root_ids\":[\"9736\"]},\"title\":\"Bokeh Application\",\"version\":\"1.4.0\"}};\n",
       "  var render_items = [{\"docid\":\"73c1002a-b6c2-4ccd-ac95-267a26b04ecd\",\"roots\":{\"9736\":\"88d6830b-6e76-445e-b495-04f0f76df4f1\"}}];\n",
       "  root.Bokeh.embed.embed_items_notebook(docs_json, render_items);\n",
       "\n",
       "  }\n",
       "  if (root.Bokeh !== undefined) {\n",
       "    embed_document(root);\n",
       "  } else {\n",
       "    var attempts = 0;\n",
       "    var timer = setInterval(function(root) {\n",
       "      if (root.Bokeh !== undefined) {\n",
       "        clearInterval(timer);\n",
       "        embed_document(root);\n",
       "      } else {\n",
       "        attempts++;\n",
       "        if (attempts > 100) {\n",
       "          clearInterval(timer);\n",
       "          console.log(\"Bokeh: ERROR: Unable to run BokehJS code because BokehJS library is missing\");\n",
       "        }\n",
       "      }\n",
       "    }, 10, root)\n",
       "  }\n",
       "})(window);"
      ],
      "application/vnd.bokehjs_exec.v0+json": ""
     },
     "metadata": {
      "application/vnd.bokehjs_exec.v0+json": {
       "id": "9736"
      }
     },
     "output_type": "display_data"
    }
   ],
   "source": [
    "p_fft = figure(plot_width=800, plot_height=350, title=\"Discrete fourier transform of observation/model outputs\",\n",
    "               y_axis_type=\"log\")\n",
    "\n",
    "p_fft.line(x=\"freq\", y=\"vals\", line_color=\"navy\", line_dash=\"solid\", legend_label=\"raw_obs\",\n",
    "           muted_color=\"navy\", muted_alpha=0.2, source=fftsrc1)\n",
    "\n",
    "p_fft.line(x=\"freq\", y=\"vals\", line_color=\"maroon\", line_dash=\"solid\", legend_label=\"detided_obs\",\n",
    "           muted_color=\"maroon\", muted_alpha=0.2, source=fftsrc2)\n",
    "\n",
    "p_fft.line(x=\"freq\", y=\"vals\", line_color=\"forestgreen\", legend_label=\"detided_mod\",\n",
    "           muted_color=\"forestgreen\", muted_alpha=0.2, source=fftsrc3)\n",
    "\n",
    "p_fft.ray(x=[0], y=[0], length=0, angle=(np.pi)/2, line_color=\"hotpink\",\n",
    "          line_dash=\"dashed\", legend_label=\"48H\")\n",
    "p_fft.ray(x=[0], y=[0], length=0, angle=(np.pi)/2, line_color=\"springgreen\",\n",
    "          line_dash=\"dashed\", legend_label=\"24H\")\n",
    "p_fft.ray(x=[0], y=[0], length=0, angle=(np.pi)/2, line_color=\"darkviolet\",\n",
    "          line_dash=\"dashed\", legend_label=\"12H\")\n",
    "\n",
    "p_fft.add_layout(Span(dimension=\"height\", location=1/48, line_color=\"hotpink\", line_dash=\"dashed\"))\n",
    "p_fft.add_layout(Span(dimension=\"height\", location=1/24, line_color=\"springgreen\", line_dash=\"dashed\"))\n",
    "p_fft.add_layout(Span(dimension=\"height\", location=1/12, line_color=\"darkviolet\", line_dash=\"dashed\"))\n",
    "\n",
    "text_coords = ColumnDataSource(dict(x=[0.48, 0.48], y=[1.3, 1], text=[f\"\\u03C3 = 1\", f\"\\u03B3\\u00B2 = 2\"]))\n",
    "glph = Text(x='x', y='y', text=\"text\", text_font_size=\"10pt\")\n",
    "p_fft.add_glyph(text_coords, glph)\n",
    "\n",
    "p_fft.xaxis.axis_label = \"Frequency (h^-1)\"\n",
    "p_fft.yaxis.axis_label = \"\"\n",
    "\n",
    "p_fft.legend.click_policy=\"mute\"\n",
    "\n",
    "'''\n",
    "low_label = Label(x=700, y=70,\n",
    "                  x_units=\"screen\", y_units=\"screen\",\n",
    "                  text=f\"\"\"foo{1}\\nbar\"\"\", \n",
    "                  background_fill_alpha=0.7, border_line_color='black')\n",
    "\n",
    "p_fft.add_layout(low_label)\n",
    "'''\n",
    "\n",
    "show(p_fft)"
   ]
  },
  {
   "cell_type": "code",
   "execution_count": 16,
   "metadata": {},
   "outputs": [],
   "source": [
    "### Interactions ####\n",
    "# Linked panning\n",
    "p_double.x_range = p_lone.x_range\n",
    "p_double.y_range = p_lone.y_range"
   ]
  },
  {
   "cell_type": "code",
   "execution_count": 17,
   "metadata": {},
   "outputs": [
    {
     "data": {
      "text/html": [
       "\n",
       "\n",
       "\n",
       "\n",
       "\n",
       "\n",
       "  <div class=\"bk-root\" id=\"ddaaf955-ebbe-4f91-9a5f-7ad9827b9937\" data-root-id=\"1862\"></div>\n"
      ]
     },
     "metadata": {},
     "output_type": "display_data"
    },
    {
     "data": {
      "application/javascript": [
       "(function(root) {\n",
       "  function embed_document(root) {\n",
       "    \n",
       "  var docs_json = {\"4c110f61-253a-437d-99fd-d59db3fc34d3\":{\"roots\":{\"references\":[{\"attributes\":{\"children\":[{\"id\":\"1008\",\"subtype\":\"Figure\",\"type\":\"Plot\"},{\"id\":\"1229\",\"subtype\":\"Figure\",\"type\":\"Plot\"},{\"id\":\"1490\",\"subtype\":\"Figure\",\"type\":\"Plot\"}]},\"id\":\"1862\",\"type\":\"Column\"},{\"attributes\":{},\"id\":\"1567\",\"type\":\"UnionRenderers\"},{\"attributes\":{\"months\":[0,2,4,6,8,10]},\"id\":\"1060\",\"type\":\"MonthsTicker\"},{\"attributes\":{\"months\":[0,1,2,3,4,5,6,7,8,9,10,11]},\"id\":\"1059\",\"type\":\"MonthsTicker\"},{\"attributes\":{\"days\":[1,15]},\"id\":\"1058\",\"type\":\"DaysTicker\"},{\"attributes\":{\"months\":[0,6]},\"id\":\"1062\",\"type\":\"MonthsTicker\"},{\"attributes\":{},\"id\":\"1063\",\"type\":\"YearsTicker\"},{\"attributes\":{\"mantissas\":[1,2,5],\"max_interval\":500.0,\"num_minor_ticks\":0},\"id\":\"1274\",\"type\":\"AdaptiveTicker\"},{\"attributes\":{\"months\":[0,4,8]},\"id\":\"1061\",\"type\":\"MonthsTicker\"},{\"attributes\":{\"callback\":null,\"formatters\":{\"@time\":\"datetime\"},\"tooltips\":[[\"date\",\"@time{%F}\"],[\"wlev\",\"@vals\"]]},\"id\":\"1207\",\"type\":\"HoverTool\"},{\"attributes\":{\"angle\":{\"units\":\"rad\",\"value\":1.5707963267948966},\"length\":{\"units\":\"data\",\"value\":1},\"line_alpha\":{\"value\":0.1},\"line_color\":{\"value\":\"#1f77b4\"},\"x\":{\"field\":\"x\"},\"y\":{\"field\":\"y\"}},\"id\":\"1572\",\"type\":\"Ray\"},{\"attributes\":{\"data_source\":{\"id\":\"1003\",\"type\":\"ColumnDataSource\"},\"glyph\":{\"id\":\"1264\",\"type\":\"Line\"},\"hover_glyph\":null,\"muted_glyph\":{\"id\":\"1266\",\"type\":\"Line\"},\"nonselection_glyph\":{\"id\":\"1265\",\"type\":\"Line\"},\"selection_glyph\":null,\"view\":{\"id\":\"1268\",\"type\":\"CDSView\"}},\"id\":\"1267\",\"type\":\"GlyphRenderer\"},{\"attributes\":{\"data_source\":{\"id\":\"1570\",\"type\":\"ColumnDataSource\"},\"glyph\":{\"id\":\"1571\",\"type\":\"Ray\"},\"hover_glyph\":null,\"muted_glyph\":null,\"nonselection_glyph\":{\"id\":\"1572\",\"type\":\"Ray\"},\"selection_glyph\":null,\"view\":{\"id\":\"1574\",\"type\":\"CDSView\"}},\"id\":\"1573\",\"type\":\"GlyphRenderer\"},{\"attributes\":{\"below\":[{\"id\":\"1240\",\"type\":\"DatetimeAxis\"}],\"center\":[{\"id\":\"1244\",\"type\":\"Grid\"},{\"id\":\"1249\",\"type\":\"Grid\"},{\"id\":\"1287\",\"type\":\"Legend\"}],\"left\":[{\"id\":\"1245\",\"type\":\"LinearAxis\"}],\"plot_height\":350,\"plot_width\":800,\"renderers\":[{\"id\":\"1267\",\"type\":\"GlyphRenderer\"},{\"id\":\"1293\",\"type\":\"GlyphRenderer\"}],\"title\":{\"id\":\"1230\",\"type\":\"Title\"},\"toolbar\":{\"id\":\"1256\",\"type\":\"Toolbar\"},\"x_range\":{\"id\":\"1011\",\"type\":\"DataRange1d\"},\"x_scale\":{\"id\":\"1236\",\"type\":\"LinearScale\"},\"y_range\":{\"id\":\"1013\",\"type\":\"DataRange1d\"},\"y_scale\":{\"id\":\"1238\",\"type\":\"LinearScale\"}},\"id\":\"1229\",\"subtype\":\"Figure\",\"type\":\"Plot\"},{\"attributes\":{\"source\":{\"id\":\"1570\",\"type\":\"ColumnDataSource\"}},\"id\":\"1574\",\"type\":\"CDSView\"},{\"attributes\":{\"bottom_units\":\"screen\",\"fill_alpha\":{\"value\":0.5},\"fill_color\":{\"value\":\"lightgrey\"},\"left_units\":\"screen\",\"level\":\"overlay\",\"line_alpha\":{\"value\":1.0},\"line_color\":{\"value\":\"black\"},\"line_dash\":[4,4],\"line_width\":{\"value\":2},\"render_mode\":\"css\",\"right_units\":\"screen\",\"top_units\":\"screen\"},\"id\":\"1064\",\"type\":\"BoxAnnotation\"},{\"attributes\":{\"data_source\":{\"id\":\"1588\",\"type\":\"ColumnDataSource\"},\"glyph\":{\"id\":\"1589\",\"type\":\"Text\"},\"hover_glyph\":null,\"muted_glyph\":null,\"view\":{\"id\":\"1591\",\"type\":\"CDSView\"}},\"id\":\"1590\",\"type\":\"GlyphRenderer\"},{\"attributes\":{\"label\":{\"value\":\"foobar\"},\"renderers\":[{\"id\":\"1573\",\"type\":\"GlyphRenderer\"}]},\"id\":\"1587\",\"type\":\"LegendItem\"},{\"attributes\":{\"data_source\":{\"id\":\"1005\",\"type\":\"ColumnDataSource\"},\"glyph\":{\"id\":\"1525\",\"type\":\"Line\"},\"hover_glyph\":null,\"muted_glyph\":{\"id\":\"1527\",\"type\":\"Line\"},\"nonselection_glyph\":{\"id\":\"1526\",\"type\":\"Line\"},\"selection_glyph\":null,\"view\":{\"id\":\"1529\",\"type\":\"CDSView\"}},\"id\":\"1528\",\"type\":\"GlyphRenderer\"},{\"attributes\":{\"data_source\":{\"id\":\"1006\",\"type\":\"ColumnDataSource\"},\"glyph\":{\"id\":\"1539\",\"type\":\"Line\"},\"hover_glyph\":null,\"muted_glyph\":{\"id\":\"1541\",\"type\":\"Line\"},\"nonselection_glyph\":{\"id\":\"1540\",\"type\":\"Line\"},\"selection_glyph\":null,\"view\":{\"id\":\"1543\",\"type\":\"CDSView\"}},\"id\":\"1542\",\"type\":\"GlyphRenderer\"},{\"attributes\":{\"callback\":null,\"data\":{\"freq\":[0.0,0.00390625,0.0078125,0.01171875,0.015625,0.01953125,0.0234375,0.02734375,0.03125,0.03515625,0.0390625,0.04296875,0.046875,0.05078125,0.0546875,0.05859375,0.0625,0.06640625,0.0703125,0.07421875,0.078125,0.08203125,0.0859375,0.08984375,0.09375,0.09765625,0.1015625,0.10546875,0.109375,0.11328125,0.1171875,0.12109375,0.125,0.12890625,0.1328125,0.13671875,0.140625,0.14453125,0.1484375,0.15234375,0.15625,0.16015625,0.1640625,0.16796875,0.171875,0.17578125,0.1796875,0.18359375,0.1875,0.19140625,0.1953125,0.19921875,0.203125,0.20703125,0.2109375,0.21484375,0.21875,0.22265625,0.2265625,0.23046875,0.234375,0.23828125,0.2421875,0.24609375,0.25,0.25390625,0.2578125,0.26171875,0.265625,0.26953125,0.2734375,0.27734375,0.28125,0.28515625,0.2890625,0.29296875,0.296875,0.30078125,0.3046875,0.30859375,0.3125,0.31640625,0.3203125,0.32421875,0.328125,0.33203125,0.3359375,0.33984375,0.34375,0.34765625,0.3515625,0.35546875,0.359375,0.36328125,0.3671875,0.37109375,0.375,0.37890625,0.3828125,0.38671875,0.390625,0.39453125,0.3984375,0.40234375,0.40625,0.41015625,0.4140625,0.41796875,0.421875,0.42578125,0.4296875,0.43359375,0.4375,0.44140625,0.4453125,0.44921875,0.453125,0.45703125,0.4609375,0.46484375,0.46875,0.47265625,0.4765625,0.48046875,0.484375,0.48828125,0.4921875,0.49609375,0.5],\"vals\":{\"__ndarray__\":\"Wu5tne0MEEB+mfK97FPAP54+jUxnwbc/3ld7bgVCoD+qwo/6NIDQP3MiaHMAc8o/9Mx3vdAjxT/Y5dlvM6bBPyxlYq6cq88/kwV/9iwT0z88vpcHdJq7P2PfZzhW9dM/RYwtVGIkxj/bgy1MY5fDPzyE9adqxtI/+eo2XmVtwD9HoLQ0a661P7GJNybfp9M/PGCvfyDyvj8fOsnMIsTAP4gni1Veo7Y/1UusOXybyT/hY+EfhZrKP0Ed24eV6M4/i7WB3GiD1T8IyB1CUszUPwYzjnT3C9g/0CH0oP4/0T/mWGjkccbKP+2R+pIIjNY/RkjKplJ+wj8z+gy99SPeP551mfXoIM0/pSAhBdmm4z+N1GAMeq/kP+yiDfsp6eg/cQ63iTIO8j9M8DiyF0j5P3gdC4kYrBdAYP687TwYEECz6uSgkZH3PyShYc99l+4/fitCqhat5j9Z0fdrJIPjPzZPyIRxTtU/eytWIY/k3j+ORgoq6wHUPyvd5kokhNM/qGxGIo8U1D9ezd+n92HPP7nScvmwV80/ccIrHtAs0j9RikohtSLAP0Uu7uciPdU/aRhj+tNAwT/7dGe+nESrP7lNYi7nO6I/bQ1rpDMZxT/tnO7fEN6vP3M0sWcfVbw/nUdZa+xioj+j8Adzj92hP2jxUv+2jas/fDXKNnhWyz/IKNMcJjjRP8NEd4z7tsA/pVhRDSZ5oT8/BxiqjlPGP7ah+EZew7c/+ytypmATxD9eOgTTizDJP71NNftgT6w/yZp9FFqFoz+9LItm6qzCPwJaM5zzcco/zuxbr2KhwT8onN40NCLPP++KkxHMqLw/RcymUwev1j8+QvXervTAP4hqtSqqUNA/sR0lj3kYpz/3FxxCIwfDP5Q1rM+fwMo/fcKsLgrgvT+qq2hOPBvCP4GcMTNRt7k/el72ScSUuj9bDXn//OOlP6oSXw6M/rk/BnlEAUnzuz/KrSRMUPHPP0q4yhvxBKk/ZbDic4wFxz+e4gOtiT28P4VWYWkogbo//hjgepqonz8EATOBoXOoP9EqiaOfdLY/ecBXuScjyT/AbRrsBjq1PwThYJRHM8c/4tUnTVbjyT/pV9q0ZOHJP80Srod0HMA/RIi7eScnvz+CHVCwvZS3P8H4FeDpW7c/XdXAp9supj9oCsgjubrTP8ucxtypw8E/v266c0q4tj+MsvxIk7+5P6BH/H/2ybM/iES4KFTMxD/55NI/6DTCP7jGUysdrLU/nD0dMllQmj9oCGcynFe1P2Yc0sMrl8Q/zFULwhkUtT++9RtXuVzGP3OSvh/irL4/irL86Vbdxz824KgeJd3BP5/ogA/ombU/xCnxTcaerj9kmvcLoue/P3C6MkAQirw/\",\"dtype\":\"float64\",\"shape\":[129]}},\"selected\":{\"id\":\"1566\",\"type\":\"Selection\"},\"selection_policy\":{\"id\":\"1567\",\"type\":\"UnionRenderers\"}},\"id\":\"1006\",\"type\":\"ColumnDataSource\"},{\"attributes\":{\"below\":[{\"id\":\"1501\",\"type\":\"LinearAxis\"}],\"center\":[{\"id\":\"1505\",\"type\":\"Grid\"},{\"id\":\"1510\",\"type\":\"Grid\"},{\"id\":\"1536\",\"type\":\"Legend\"}],\"left\":[{\"id\":\"1506\",\"type\":\"LogAxis\"}],\"plot_height\":350,\"plot_width\":800,\"renderers\":[{\"id\":\"1528\",\"type\":\"GlyphRenderer\"},{\"id\":\"1542\",\"type\":\"GlyphRenderer\"},{\"id\":\"1557\",\"type\":\"GlyphRenderer\"},{\"id\":\"1573\",\"type\":\"GlyphRenderer\"},{\"id\":\"1590\",\"type\":\"GlyphRenderer\"}],\"title\":{\"id\":\"1491\",\"type\":\"Title\"},\"toolbar\":{\"id\":\"1517\",\"type\":\"Toolbar\"},\"x_range\":{\"id\":\"1493\",\"type\":\"DataRange1d\"},\"x_scale\":{\"id\":\"1497\",\"type\":\"LinearScale\"},\"y_range\":{\"id\":\"1495\",\"type\":\"DataRange1d\"},\"y_scale\":{\"id\":\"1499\",\"type\":\"LogScale\"}},\"id\":\"1490\",\"subtype\":\"Figure\",\"type\":\"Plot\"},{\"attributes\":{},\"id\":\"1584\",\"type\":\"Selection\"},{\"attributes\":{},\"id\":\"1585\",\"type\":\"UnionRenderers\"},{\"attributes\":{\"text\":\"Discrete fourier transform of observation/model outputs\"},\"id\":\"1491\",\"type\":\"Title\"},{\"attributes\":{\"callback\":null,\"data\":{\"time\":{\"__ndarray__\":\"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\",\"dtype\":\"float64\",\"shape\":[256]},\"vals\":{\"__ndarray__\":\"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\",\"dtype\":\"float64\",\"shape\":[256]}},\"selected\":{\"id\":\"1084\",\"type\":\"Selection\"},\"selection_policy\":{\"id\":\"1085\",\"type\":\"UnionRenderers\"}},\"id\":\"1002\",\"type\":\"ColumnDataSource\"},{\"attributes\":{\"line_color\":\"navy\",\"x\":{\"field\":\"freq\"},\"y\":{\"field\":\"vals\"}},\"id\":\"1525\",\"type\":\"Line\"},{\"attributes\":{\"active_drag\":\"auto\",\"active_inspect\":\"auto\",\"active_multi\":null,\"active_scroll\":\"auto\",\"active_tap\":\"auto\",\"tools\":[{\"id\":\"1511\",\"type\":\"PanTool\"},{\"id\":\"1512\",\"type\":\"WheelZoomTool\"},{\"id\":\"1513\",\"type\":\"BoxZoomTool\"},{\"id\":\"1514\",\"type\":\"SaveTool\"},{\"id\":\"1515\",\"type\":\"ResetTool\"},{\"id\":\"1516\",\"type\":\"HelpTool\"}]},\"id\":\"1517\",\"type\":\"Toolbar\"},{\"attributes\":{},\"id\":\"1566\",\"type\":\"Selection\"},{\"attributes\":{\"callback\":null},\"id\":\"1495\",\"type\":\"DataRange1d\"},{\"attributes\":{\"callback\":null},\"id\":\"1493\",\"type\":\"DataRange1d\"},{\"attributes\":{\"axis_label\":\"Frequency (h^-1)\",\"formatter\":{\"id\":\"1531\",\"type\":\"BasicTickFormatter\"},\"ticker\":{\"id\":\"1502\",\"type\":\"BasicTicker\"}},\"id\":\"1501\",\"type\":\"LinearAxis\"},{\"attributes\":{\"axis_label\":\"Water level (m)\",\"formatter\":{\"id\":\"1272\",\"type\":\"BasicTickFormatter\"},\"ticker\":{\"id\":\"1246\",\"type\":\"BasicTicker\"}},\"id\":\"1245\",\"type\":\"LinearAxis\"},{\"attributes\":{},\"id\":\"1502\",\"type\":\"BasicTicker\"},{\"attributes\":{},\"id\":\"1499\",\"type\":\"LogScale\"},{\"attributes\":{\"callback\":null,\"data\":{\"freq\":[0.0,0.00390625,0.0078125,0.01171875,0.015625,0.01953125,0.0234375,0.02734375,0.03125,0.03515625,0.0390625,0.04296875,0.046875,0.05078125,0.0546875,0.05859375,0.0625,0.06640625,0.0703125,0.07421875,0.078125,0.08203125,0.0859375,0.08984375,0.09375,0.09765625,0.1015625,0.10546875,0.109375,0.11328125,0.1171875,0.12109375,0.125,0.12890625,0.1328125,0.13671875,0.140625,0.14453125,0.1484375,0.15234375,0.15625,0.16015625,0.1640625,0.16796875,0.171875,0.17578125,0.1796875,0.18359375,0.1875,0.19140625,0.1953125,0.19921875,0.203125,0.20703125,0.2109375,0.21484375,0.21875,0.22265625,0.2265625,0.23046875,0.234375,0.23828125,0.2421875,0.24609375,0.25,0.25390625,0.2578125,0.26171875,0.265625,0.26953125,0.2734375,0.27734375,0.28125,0.28515625,0.2890625,0.29296875,0.296875,0.30078125,0.3046875,0.30859375,0.3125,0.31640625,0.3203125,0.32421875,0.328125,0.33203125,0.3359375,0.33984375,0.34375,0.34765625,0.3515625,0.35546875,0.359375,0.36328125,0.3671875,0.37109375,0.375,0.37890625,0.3828125,0.38671875,0.390625,0.39453125,0.3984375,0.40234375,0.40625,0.41015625,0.4140625,0.41796875,0.421875,0.42578125,0.4296875,0.43359375,0.4375,0.44140625,0.4453125,0.44921875,0.453125,0.45703125,0.4609375,0.46484375,0.46875,0.47265625,0.4765625,0.48046875,0.484375,0.48828125,0.4921875,0.49609375,0.5],\"vals\":{\"__ndarray__\":\"shdONZrSEEAMN0XTpT7OP/rxtPug2p4/KQM+fhqHxD9lAr8HuHK3P5JQpr0YhcY/qRBVGRzlzT+96CGRJwq8P9ms9eg3QJ4/lxw8msKWwT99z+Af2VS6P7bnXEMfj8I/xu1XLT+awT/W6nA506nIPwGf7+J8/Lw/s7ykwWsywz8WHU/or1LBP2VJtVzL28I/nskQPLCLtT8U2ToJwt2/PygFxHKW0sk/dKRQ78yGyj/gkdQQTRnMPz+OOWdkErQ/ch5FOHky2D8tGOhjZYDCP6ikCAp2AdA/p+OSLZ1EsD9nMCsSSs3NP7UBwwr3hdM/M79CUDlvyz+KYg4+OabbP3jkrt1TdN4/GKzrfwsP4T+ilLPg6K/ePwMTc6lVI+Q/U2KKDopc6j/LfWEZ9Ln4Pxhc167D1hdAoFPw3dtaEEBmxvuKJdH2P32yutMDve0/ng2bTANJ6j/zhF6jGgLcP4/2Jhuj9No/a3x6qr0m2j9hfXp0gWDSPzChVnmqcs4/iPbbRu1q0T+I+UVm8czKP4qhJ6+yF9A/d3FWn96MuT8O2ki/pLnVP4xGzNT4VdA/FtKoXGOqwT+0Di59khHOP74Wec45VLs/G8NDwyKZvz+Q6npTdJ++P4HOe6VuWrw/djcfR/rIzj84dCsm8zvDP2vHQUedsrw/bWZfRgtbxD//2NVztOrRP3RY1w/Q2aQ/mo1XNWjBxz+PhfPc1QvDP7NvxAj+37Q/vlB4s3U2xj9VqSBDVLvOP8ZvctV5f74/e4d26Hpmyz/danL6csm3PxYk1aFV58s/IrQycA4DxD8bU6YS4eXLP22hj4HiAMM/c5nWomA1oD8hRA1BuNjDP0ISLz4hJcE/ozy/jc1VsT+vbifWAObEPzeVfFV8c78/YCzf2i7+1T/sdPF/ITG4P4lLZhgiUKc/6qXScaVSxj9CB1gvZVbSP2kR27d50JU/d2EJWTj2zD+iXRi1neG4P2R26blE8sI/WW5FVVhquj9e1CIHrn7BP9yrksymFNI//S013t2hrj/FHkox7+jPP/xEIBpY98o/cRgulGBD0D/W+HrQF+zHP1Ngl4DoSbw/qDYPw1aFwT83NIvc51ajP7cNaZYKRM4/9cGeGO/oyT83QBBlV3bRPxDVbDcWdbw/m4x3dXp8rz/2oL36lTSrP7OihNODfMw/Y1/GJ7zStj/2CVy52eC+P0S18OtIiJ8/3A+o/N+usj/Flt9EMMi1P5pVrBxpkKk/aU1G7PKkxz/aBiTVECKtP1vU9GLP6s0/KdMJrS/myD9Nsl7HF/y0P9kx4g1uVtE/VgjSjnJ2zD+dXRHsGmHHP5mXqFwa3bc/ZKexlN4ZvT+CScBkMO66PwC42P/zNbY/\",\"dtype\":\"float64\",\"shape\":[129]}},\"selected\":{\"id\":\"1584\",\"type\":\"Selection\"},\"selection_policy\":{\"id\":\"1585\",\"type\":\"UnionRenderers\"}},\"id\":\"1007\",\"type\":\"ColumnDataSource\"},{\"attributes\":{\"callback\":null,\"data\":{\"freq\":[0.0,0.00390625,0.0078125,0.01171875,0.015625,0.01953125,0.0234375,0.02734375,0.03125,0.03515625,0.0390625,0.04296875,0.046875,0.05078125,0.0546875,0.05859375,0.0625,0.06640625,0.0703125,0.07421875,0.078125,0.08203125,0.0859375,0.08984375,0.09375,0.09765625,0.1015625,0.10546875,0.109375,0.11328125,0.1171875,0.12109375,0.125,0.12890625,0.1328125,0.13671875,0.140625,0.14453125,0.1484375,0.15234375,0.15625,0.16015625,0.1640625,0.16796875,0.171875,0.17578125,0.1796875,0.18359375,0.1875,0.19140625,0.1953125,0.19921875,0.203125,0.20703125,0.2109375,0.21484375,0.21875,0.22265625,0.2265625,0.23046875,0.234375,0.23828125,0.2421875,0.24609375,0.25,0.25390625,0.2578125,0.26171875,0.265625,0.26953125,0.2734375,0.27734375,0.28125,0.28515625,0.2890625,0.29296875,0.296875,0.30078125,0.3046875,0.30859375,0.3125,0.31640625,0.3203125,0.32421875,0.328125,0.33203125,0.3359375,0.33984375,0.34375,0.34765625,0.3515625,0.35546875,0.359375,0.36328125,0.3671875,0.37109375,0.375,0.37890625,0.3828125,0.38671875,0.390625,0.39453125,0.3984375,0.40234375,0.40625,0.41015625,0.4140625,0.41796875,0.421875,0.42578125,0.4296875,0.43359375,0.4375,0.44140625,0.4453125,0.44921875,0.453125,0.45703125,0.4609375,0.46484375,0.46875,0.47265625,0.4765625,0.48046875,0.484375,0.48828125,0.4921875,0.49609375,0.5],\"vals\":{\"__ndarray__\":\"uGwgIyx1EEBhdU5rigvGP/pEGV2yesM/0f0zzkFKtD8mbcD5u0PKPxChvAl5NM8/M9WdtGFxvz/FAAR95bLLP7OpvXxqpsc/we80bk3fyT8mHyDSDPnSPxwXiXhn2NI/jcvE0TXywz9N/O1LqCnRP6HuN22kj8M/btSDdKtTxj+oOhsmxhnNP+Nad/buaLo/eFkw/9OhyD+e04cYY+fWPxacHYlCt7M/kJ7uSvVbyj+Ma294nbnWP7Nlw0rgtME/85FKnm16zz/ehzbRsJ6ZP10+zTehQ9Q/rAJNvqqnnD8GLTiCtiHGP0oUIVjA78Y/yxMejU39zj8FV5Peh3LaP1oa/mDlF9E/gwKe7Up7zj/V+3Gz0i7XP9CqVwLlI+w/oidezhW88j9jmKz4xlv8Px4y9vc8WRhAdmP4fXKpEEAZlPpJarb3P5E+MvDi5+o/FGvpuEPl2z9KMhgMTm7hP/LKmZbrP+E/ljMXY+wb1D8asGzHG1DYP5Ix7oc4INE/6o8/MxGCwz+1NnvsrDrKP+gSyCqKKMg/+Tf9lVtBxz/5tJXvHsm8P+jbh1uy6cY/xTdm3IZCwz+aOjlD3MK9PySk57Zej9A/AWtphY2otT8BSAanmfvSPzdNGLWnZrM/ieI4vCnu0T8skgKNIf68P3CPekg0TMI/OsVLtZ1qoj/Lm4oCqfbDP6yMcsdGXLA/LTnAHXSgwD9DQuqPpWmyP4n2u6mzjrk/0QcNH4cCwD+M63c8gE/CPwiZcfHHy74/NHRXROxtxD/8Fqc2587AP8VWJh0IU8U/rYd82Pbhxz+wpKoJZVO5P6pUTB66wMk/lNEDSkB2rD/kH+xAjvHAP7+hPsz9lc0/ORLK4TpLlT9C1NR0cCCnP+6bJZnYV7E/uMOcnkHExT+26zN1agq4P8OdUlnGesI/5m0prXXEtD8WtJjojbXAP531Rt5zNaI/JJyy0Qcevz/BrvnqesDDP5NZlXHSvrE/NcPZf3FVwz/3YXNE/5G1P/BnlsrMMcU/eFXpNZjQzT+mxPBNg0zGPwqUzOptdbs/pgKJEXolpj98ZCbloXDEP4UKaSP53Lo/mospattosT8N3S7ZUmTEP11l4OpD6aM/hbchq3qnxT+4+u/4dx+wP7YG0SxjS7k/3g5OXmSIwD/wCwmoqOzFP/zRDDio6aw/YK7fxHaSsz8G4hFxh3vGP6nUjgObV58/ltmTsFNR0z+OxcAJA6mzPx+BpouiQcQ/g0O4Zl+vxz8BeSSue+6/P4Y6h1GNtrw/xUe0g6FUtT/OSf4gvD6rP+NXz6SJqLg/p2//pruHvT/QIskiknu5PyuWkXwqdsI/m1oNdK0ewz99eCWrEKLAP0Sg1GSGy9k/\",\"dtype\":\"float64\",\"shape\":[129]}},\"selected\":{\"id\":\"1549\",\"type\":\"Selection\"},\"selection_policy\":{\"id\":\"1550\",\"type\":\"UnionRenderers\"}},\"id\":\"1005\",\"type\":\"ColumnDataSource\"},{\"attributes\":{},\"id\":\"1497\",\"type\":\"LinearScale\"},{\"attributes\":{\"ticker\":{\"id\":\"1502\",\"type\":\"BasicTicker\"}},\"id\":\"1505\",\"type\":\"Grid\"},{\"attributes\":{\"source\":{\"id\":\"1588\",\"type\":\"ColumnDataSource\"}},\"id\":\"1591\",\"type\":\"CDSView\"},{\"attributes\":{\"text\":\"Detided observation vs detided model\"},\"id\":\"1230\",\"type\":\"Title\"},{\"attributes\":{\"formatter\":{\"id\":\"1533\",\"type\":\"LogTickFormatter\"},\"ticker\":{\"id\":\"1507\",\"type\":\"LogTicker\"}},\"id\":\"1506\",\"type\":\"LogAxis\"},{\"attributes\":{\"num_minor_ticks\":10},\"id\":\"1507\",\"type\":\"LogTicker\"},{\"attributes\":{\"text_font_size\":{\"value\":\"10pt\"},\"x\":{\"field\":\"x\"},\"y\":{\"field\":\"y\"}},\"id\":\"1589\",\"type\":\"Text\"},{\"attributes\":{\"dimension\":1,\"ticker\":{\"id\":\"1507\",\"type\":\"LogTicker\"}},\"id\":\"1510\",\"type\":\"Grid\"},{\"attributes\":{},\"id\":\"1512\",\"type\":\"WheelZoomTool\"},{\"attributes\":{},\"id\":\"1511\",\"type\":\"PanTool\"},{\"attributes\":{},\"id\":\"1238\",\"type\":\"LinearScale\"},{\"attributes\":{},\"id\":\"1516\",\"type\":\"HelpTool\"},{\"attributes\":{\"overlay\":{\"id\":\"1535\",\"type\":\"BoxAnnotation\"}},\"id\":\"1513\",\"type\":\"BoxZoomTool\"},{\"attributes\":{},\"id\":\"1514\",\"type\":\"SaveTool\"},{\"attributes\":{},\"id\":\"1515\",\"type\":\"ResetTool\"},{\"attributes\":{\"num_minor_ticks\":5,\"tickers\":[{\"id\":\"1274\",\"type\":\"AdaptiveTicker\"},{\"id\":\"1275\",\"type\":\"AdaptiveTicker\"},{\"id\":\"1276\",\"type\":\"AdaptiveTicker\"},{\"id\":\"1277\",\"type\":\"DaysTicker\"},{\"id\":\"1278\",\"type\":\"DaysTicker\"},{\"id\":\"1279\",\"type\":\"DaysTicker\"},{\"id\":\"1280\",\"type\":\"DaysTicker\"},{\"id\":\"1281\",\"type\":\"MonthsTicker\"},{\"id\":\"1282\",\"type\":\"MonthsTicker\"},{\"id\":\"1283\",\"type\":\"MonthsTicker\"},{\"id\":\"1284\",\"type\":\"MonthsTicker\"},{\"id\":\"1285\",\"type\":\"YearsTicker\"}]},\"id\":\"1241\",\"type\":\"DatetimeTicker\"},{\"attributes\":{\"source\":{\"id\":\"1005\",\"type\":\"ColumnDataSource\"}},\"id\":\"1529\",\"type\":\"CDSView\"},{\"attributes\":{},\"id\":\"1646\",\"type\":\"UnionRenderers\"},{\"attributes\":{\"line_alpha\":0.2,\"line_color\":\"navy\",\"x\":{\"field\":\"freq\"},\"y\":{\"field\":\"vals\"}},\"id\":\"1527\",\"type\":\"Line\"},{\"attributes\":{\"line_color\":\"navy\",\"x\":{\"field\":\"time\"},\"y\":{\"field\":\"vals\"}},\"id\":\"1264\",\"type\":\"Line\"},{\"attributes\":{\"line_alpha\":0.1,\"line_color\":\"#1f77b4\",\"x\":{\"field\":\"freq\"},\"y\":{\"field\":\"vals\"}},\"id\":\"1526\",\"type\":\"Line\"},{\"attributes\":{\"label\":{\"value\":\"raw_obs\"},\"renderers\":[{\"id\":\"1528\",\"type\":\"GlyphRenderer\"}]},\"id\":\"1537\",\"type\":\"LegendItem\"},{\"attributes\":{},\"id\":\"1236\",\"type\":\"LinearScale\"},{\"attributes\":{\"click_policy\":\"mute\",\"items\":[{\"id\":\"1537\",\"type\":\"LegendItem\"},{\"id\":\"1552\",\"type\":\"LegendItem\"},{\"id\":\"1569\",\"type\":\"LegendItem\"},{\"id\":\"1587\",\"type\":\"LegendItem\"}]},\"id\":\"1536\",\"type\":\"Legend\"},{\"attributes\":{},\"id\":\"1246\",\"type\":\"BasicTicker\"},{\"attributes\":{},\"id\":\"1645\",\"type\":\"Selection\"},{\"attributes\":{},\"id\":\"1085\",\"type\":\"UnionRenderers\"},{\"attributes\":{},\"id\":\"1647\",\"type\":\"Selection\"},{\"attributes\":{},\"id\":\"1084\",\"type\":\"Selection\"},{\"attributes\":{},\"id\":\"1648\",\"type\":\"UnionRenderers\"},{\"attributes\":{\"axis_label\":\"Date\",\"formatter\":{\"id\":\"1270\",\"type\":\"DatetimeTickFormatter\"},\"ticker\":{\"id\":\"1241\",\"type\":\"DatetimeTicker\"}},\"id\":\"1240\",\"type\":\"DatetimeAxis\"},{\"attributes\":{},\"id\":\"1531\",\"type\":\"BasicTickFormatter\"},{\"attributes\":{},\"id\":\"1048\",\"type\":\"DatetimeTickFormatter\"},{\"attributes\":{\"dimension\":1,\"ticker\":{\"id\":\"1246\",\"type\":\"BasicTicker\"}},\"id\":\"1249\",\"type\":\"Grid\"},{\"attributes\":{},\"id\":\"1250\",\"type\":\"PanTool\"},{\"attributes\":{\"active_drag\":\"auto\",\"active_inspect\":\"auto\",\"active_multi\":null,\"active_scroll\":\"auto\",\"active_tap\":\"auto\",\"tools\":[{\"id\":\"1250\",\"type\":\"PanTool\"},{\"id\":\"1251\",\"type\":\"WheelZoomTool\"},{\"id\":\"1252\",\"type\":\"BoxZoomTool\"},{\"id\":\"1253\",\"type\":\"SaveTool\"},{\"id\":\"1254\",\"type\":\"ResetTool\"},{\"id\":\"1255\",\"type\":\"HelpTool\"}]},\"id\":\"1256\",\"type\":\"Toolbar\"},{\"attributes\":{},\"id\":\"1251\",\"type\":\"WheelZoomTool\"},{\"attributes\":{},\"id\":\"1255\",\"type\":\"HelpTool\"},{\"attributes\":{\"overlay\":{\"id\":\"1286\",\"type\":\"BoxAnnotation\"}},\"id\":\"1252\",\"type\":\"BoxZoomTool\"},{\"attributes\":{},\"id\":\"1253\",\"type\":\"SaveTool\"},{\"attributes\":{\"ticker\":null},\"id\":\"1533\",\"type\":\"LogTickFormatter\"},{\"attributes\":{},\"id\":\"1254\",\"type\":\"ResetTool\"},{\"attributes\":{\"data_source\":{\"id\":\"1004\",\"type\":\"ColumnDataSource\"},\"glyph\":{\"id\":\"1290\",\"type\":\"Line\"},\"hover_glyph\":null,\"muted_glyph\":{\"id\":\"1292\",\"type\":\"Line\"},\"nonselection_glyph\":{\"id\":\"1291\",\"type\":\"Line\"},\"selection_glyph\":null,\"view\":{\"id\":\"1294\",\"type\":\"CDSView\"}},\"id\":\"1293\",\"type\":\"GlyphRenderer\"},{\"attributes\":{\"source\":{\"id\":\"1003\",\"type\":\"ColumnDataSource\"}},\"id\":\"1268\",\"type\":\"CDSView\"},{\"attributes\":{\"line_alpha\":0.2,\"line_color\":\"navy\",\"x\":{\"field\":\"time\"},\"y\":{\"field\":\"vals\"}},\"id\":\"1266\",\"type\":\"Line\"},{\"attributes\":{\"line_alpha\":0.1,\"line_color\":\"#1f77b4\",\"x\":{\"field\":\"time\"},\"y\":{\"field\":\"vals\"}},\"id\":\"1265\",\"type\":\"Line\"},{\"attributes\":{\"data_source\":{\"id\":\"1002\",\"type\":\"ColumnDataSource\"},\"glyph\":{\"id\":\"1043\",\"type\":\"Line\"},\"hover_glyph\":null,\"muted_glyph\":null,\"nonselection_glyph\":{\"id\":\"1044\",\"type\":\"Line\"},\"selection_glyph\":null,\"view\":{\"id\":\"1046\",\"type\":\"CDSView\"}},\"id\":\"1045\",\"type\":\"GlyphRenderer\"},{\"attributes\":{\"label\":{\"value\":\"detided_obs\"},\"renderers\":[{\"id\":\"1267\",\"type\":\"GlyphRenderer\"}]},\"id\":\"1288\",\"type\":\"LegendItem\"},{\"attributes\":{\"below\":[{\"id\":\"1019\",\"type\":\"DatetimeAxis\"}],\"center\":[{\"id\":\"1023\",\"type\":\"Grid\"},{\"id\":\"1028\",\"type\":\"Grid\"},{\"id\":\"1065\",\"type\":\"Legend\"}],\"left\":[{\"id\":\"1024\",\"type\":\"LinearAxis\"}],\"plot_height\":350,\"plot_width\":800,\"renderers\":[{\"id\":\"1045\",\"type\":\"GlyphRenderer\"}],\"title\":{\"id\":\"1009\",\"type\":\"Title\"},\"toolbar\":{\"id\":\"1035\",\"type\":\"Toolbar\"},\"x_range\":{\"id\":\"1011\",\"type\":\"DataRange1d\"},\"x_scale\":{\"id\":\"1015\",\"type\":\"LinearScale\"},\"y_range\":{\"id\":\"1013\",\"type\":\"DataRange1d\"},\"y_scale\":{\"id\":\"1017\",\"type\":\"LinearScale\"}},\"id\":\"1008\",\"subtype\":\"Figure\",\"type\":\"Plot\"},{\"attributes\":{\"click_policy\":\"mute\",\"items\":[{\"id\":\"1288\",\"type\":\"LegendItem\"},{\"id\":\"1315\",\"type\":\"LegendItem\"}]},\"id\":\"1287\",\"type\":\"Legend\"},{\"attributes\":{\"axis_label\":\"Date\",\"formatter\":{\"id\":\"1048\",\"type\":\"DatetimeTickFormatter\"},\"ticker\":{\"id\":\"1020\",\"type\":\"DatetimeTicker\"}},\"id\":\"1019\",\"type\":\"DatetimeAxis\"},{\"attributes\":{\"text\":\"Raw observational data\"},\"id\":\"1009\",\"type\":\"Title\"},{\"attributes\":{\"bottom_units\":\"screen\",\"fill_alpha\":{\"value\":0.5},\"fill_color\":{\"value\":\"lightgrey\"},\"left_units\":\"screen\",\"level\":\"overlay\",\"line_alpha\":{\"value\":1.0},\"line_color\":{\"value\":\"black\"},\"line_dash\":[4,4],\"line_width\":{\"value\":2},\"render_mode\":\"css\",\"right_units\":\"screen\",\"top_units\":\"screen\"},\"id\":\"1535\",\"type\":\"BoxAnnotation\"},{\"attributes\":{},\"id\":\"1025\",\"type\":\"BasicTicker\"},{\"attributes\":{\"axis_label\":\"Water level (m)\",\"formatter\":{\"id\":\"1050\",\"type\":\"BasicTickFormatter\"},\"ticker\":{\"id\":\"1025\",\"type\":\"BasicTicker\"}},\"id\":\"1024\",\"type\":\"LinearAxis\"},{\"attributes\":{\"callback\":null},\"id\":\"1011\",\"type\":\"DataRange1d\"},{\"attributes\":{},\"id\":\"1017\",\"type\":\"LinearScale\"},{\"attributes\":{\"line_color\":\"maroon\",\"x\":{\"field\":\"time\"},\"y\":{\"field\":\"vals\"}},\"id\":\"1290\",\"type\":\"Line\"},{\"attributes\":{\"callback\":null},\"id\":\"1013\",\"type\":\"DataRange1d\"},{\"attributes\":{\"num_minor_ticks\":5,\"tickers\":[{\"id\":\"1052\",\"type\":\"AdaptiveTicker\"},{\"id\":\"1053\",\"type\":\"AdaptiveTicker\"},{\"id\":\"1054\",\"type\":\"AdaptiveTicker\"},{\"id\":\"1055\",\"type\":\"DaysTicker\"},{\"id\":\"1056\",\"type\":\"DaysTicker\"},{\"id\":\"1057\",\"type\":\"DaysTicker\"},{\"id\":\"1058\",\"type\":\"DaysTicker\"},{\"id\":\"1059\",\"type\":\"MonthsTicker\"},{\"id\":\"1060\",\"type\":\"MonthsTicker\"},{\"id\":\"1061\",\"type\":\"MonthsTicker\"},{\"id\":\"1062\",\"type\":\"MonthsTicker\"},{\"id\":\"1063\",\"type\":\"YearsTicker\"}]},\"id\":\"1020\",\"type\":\"DatetimeTicker\"},{\"attributes\":{},\"id\":\"1015\",\"type\":\"LinearScale\"},{\"attributes\":{\"line_alpha\":0.1,\"line_color\":\"#1f77b4\",\"x\":{\"field\":\"time\"},\"y\":{\"field\":\"vals\"}},\"id\":\"1291\",\"type\":\"Line\"},{\"attributes\":{\"ticker\":{\"id\":\"1020\",\"type\":\"DatetimeTicker\"}},\"id\":\"1023\",\"type\":\"Grid\"},{\"attributes\":{\"line_alpha\":0.2,\"line_color\":\"maroon\",\"x\":{\"field\":\"time\"},\"y\":{\"field\":\"vals\"}},\"id\":\"1292\",\"type\":\"Line\"},{\"attributes\":{\"label\":{\"value\":\"raw_obs\"},\"renderers\":[{\"id\":\"1045\",\"type\":\"GlyphRenderer\"}]},\"id\":\"1066\",\"type\":\"LegendItem\"},{\"attributes\":{\"source\":{\"id\":\"1004\",\"type\":\"ColumnDataSource\"}},\"id\":\"1294\",\"type\":\"CDSView\"},{\"attributes\":{\"dimension\":1,\"ticker\":{\"id\":\"1025\",\"type\":\"BasicTicker\"}},\"id\":\"1028\",\"type\":\"Grid\"},{\"attributes\":{\"overlay\":{\"id\":\"1064\",\"type\":\"BoxAnnotation\"}},\"id\":\"1031\",\"type\":\"BoxZoomTool\"},{\"attributes\":{},\"id\":\"1270\",\"type\":\"DatetimeTickFormatter\"},{\"attributes\":{\"line_color\":\"maroon\",\"x\":{\"field\":\"freq\"},\"y\":{\"field\":\"vals\"}},\"id\":\"1539\",\"type\":\"Line\"},{\"attributes\":{\"label\":{\"value\":\"detided_mod\"},\"renderers\":[{\"id\":\"1293\",\"type\":\"GlyphRenderer\"}]},\"id\":\"1315\",\"type\":\"LegendItem\"},{\"attributes\":{\"source\":{\"id\":\"1002\",\"type\":\"ColumnDataSource\"}},\"id\":\"1046\",\"type\":\"CDSView\"},{\"attributes\":{},\"id\":\"1034\",\"type\":\"HelpTool\"},{\"attributes\":{\"line_alpha\":0.1,\"line_color\":\"#1f77b4\",\"x\":{\"field\":\"freq\"},\"y\":{\"field\":\"vals\"}},\"id\":\"1540\",\"type\":\"Line\"},{\"attributes\":{\"active_drag\":\"auto\",\"active_inspect\":\"auto\",\"active_multi\":null,\"active_scroll\":\"auto\",\"active_tap\":\"auto\",\"tools\":[{\"id\":\"1029\",\"type\":\"PanTool\"},{\"id\":\"1030\",\"type\":\"WheelZoomTool\"},{\"id\":\"1031\",\"type\":\"BoxZoomTool\"},{\"id\":\"1032\",\"type\":\"SaveTool\"},{\"id\":\"1033\",\"type\":\"ResetTool\"},{\"id\":\"1034\",\"type\":\"HelpTool\"},{\"id\":\"1207\",\"type\":\"HoverTool\"}]},\"id\":\"1035\",\"type\":\"Toolbar\"},{\"attributes\":{\"data_source\":{\"id\":\"1007\",\"type\":\"ColumnDataSource\"},\"glyph\":{\"id\":\"1554\",\"type\":\"Line\"},\"hover_glyph\":null,\"muted_glyph\":{\"id\":\"1556\",\"type\":\"Line\"},\"nonselection_glyph\":{\"id\":\"1555\",\"type\":\"Line\"},\"selection_glyph\":null,\"view\":{\"id\":\"1558\",\"type\":\"CDSView\"}},\"id\":\"1557\",\"type\":\"GlyphRenderer\"},{\"attributes\":{\"callback\":null,\"data\":{\"time\":{\"__ndarray__\":\"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\",\"dtype\":\"float64\",\"shape\":[256]},\"vals\":{\"__ndarray__\":\"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\",\"dtype\":\"float64\",\"shape\":[256]}},\"selected\":{\"id\":\"1355\",\"type\":\"Selection\"},\"selection_policy\":{\"id\":\"1356\",\"type\":\"UnionRenderers\"}},\"id\":\"1004\",\"type\":\"ColumnDataSource\"},{\"attributes\":{},\"id\":\"1029\",\"type\":\"PanTool\"},{\"attributes\":{\"line_alpha\":0.2,\"line_color\":\"maroon\",\"x\":{\"field\":\"freq\"},\"y\":{\"field\":\"vals\"}},\"id\":\"1541\",\"type\":\"Line\"},{\"attributes\":{},\"id\":\"1030\",\"type\":\"WheelZoomTool\"},{\"attributes\":{\"source\":{\"id\":\"1006\",\"type\":\"ColumnDataSource\"}},\"id\":\"1543\",\"type\":\"CDSView\"},{\"attributes\":{},\"id\":\"1032\",\"type\":\"SaveTool\"},{\"attributes\":{\"line_color\":\"forestgreen\",\"x\":{\"field\":\"freq\"},\"y\":{\"field\":\"vals\"}},\"id\":\"1554\",\"type\":\"Line\"},{\"attributes\":{},\"id\":\"1033\",\"type\":\"ResetTool\"},{\"attributes\":{},\"id\":\"1313\",\"type\":\"UnionRenderers\"},{\"attributes\":{\"label\":{\"value\":\"detided_obs\"},\"renderers\":[{\"id\":\"1542\",\"type\":\"GlyphRenderer\"}]},\"id\":\"1552\",\"type\":\"LegendItem\"},{\"attributes\":{\"line_color\":\"navy\",\"x\":{\"field\":\"time\"},\"y\":{\"field\":\"vals\"}},\"id\":\"1043\",\"type\":\"Line\"},{\"attributes\":{\"line_alpha\":0.1,\"line_color\":\"#1f77b4\",\"x\":{\"field\":\"time\"},\"y\":{\"field\":\"vals\"}},\"id\":\"1044\",\"type\":\"Line\"},{\"attributes\":{},\"id\":\"1312\",\"type\":\"Selection\"},{\"attributes\":{},\"id\":\"1272\",\"type\":\"BasicTickFormatter\"},{\"attributes\":{\"items\":[{\"id\":\"1066\",\"type\":\"LegendItem\"}]},\"id\":\"1065\",\"type\":\"Legend\"},{\"attributes\":{\"days\":[1,2,3,4,5,6,7,8,9,10,11,12,13,14,15,16,17,18,19,20,21,22,23,24,25,26,27,28,29,30,31]},\"id\":\"1277\",\"type\":\"DaysTicker\"},{\"attributes\":{\"base\":24,\"mantissas\":[1,2,4,6,8,12],\"max_interval\":43200000.0,\"min_interval\":3600000.0,\"num_minor_ticks\":0},\"id\":\"1276\",\"type\":\"AdaptiveTicker\"},{\"attributes\":{\"months\":[0,1,2,3,4,5,6,7,8,9,10,11]},\"id\":\"1281\",\"type\":\"MonthsTicker\"},{\"attributes\":{\"months\":[0,2,4,6,8,10]},\"id\":\"1282\",\"type\":\"MonthsTicker\"},{\"attributes\":{\"days\":[1,4,7,10,13,16,19,22,25,28]},\"id\":\"1278\",\"type\":\"DaysTicker\"},{\"attributes\":{},\"id\":\"1549\",\"type\":\"Selection\"},{\"attributes\":{\"days\":[1,15]},\"id\":\"1280\",\"type\":\"DaysTicker\"},{\"attributes\":{},\"id\":\"1550\",\"type\":\"UnionRenderers\"},{\"attributes\":{\"months\":[0,6]},\"id\":\"1284\",\"type\":\"MonthsTicker\"},{\"attributes\":{\"callback\":null,\"data\":{\"time\":{\"__ndarray__\":\"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\",\"dtype\":\"float64\",\"shape\":[256]},\"vals\":{\"__ndarray__\":\"6JlTn9zT2z/oVMO9fqTBP4DF2+RMSsg/9EPAQuGuzT+OwVJVPa/YP2zAx27gH84/ACG+cEOIgb9o3R8SZfuvv1CYuwWcS9E/zoRkNa200z8w076ApNnHP1hF+KQbytI/oMn4SoGglD+QgA/fd3+Wv7w43LgsC9E/YEdSrQrAqj/gOdqU49uev1DruJyUgJS/QJbpnro6yz8gUlISFeu8PzpS/bUr/Kk/iNdUZOEo0z/oXpk68azEP/61Z8MTtcs/Piw3jlFk2z/grzDhw9icv8CwJNxcKog/6IGjbQULs7/QE0LxTE3MPwyT/Be4kss/P98nU54sxD/geZnvWh+5PzQ4y1r13s0/cF5cWYZV0T9gNnrlicKyP4DUdX9Gj8g/AH0EJtuErr+gDYb57o6ov1ifjtwtQbG/qIvQd2OPvD/QuUvHI06Cv1jYWDuNZrc/qI5faTKR1T9kKFPkN4fVP0qvWKJWJMw/KE8OV9RtzT9js0bHHqXRP3hon1nzUsY/IMyhjToIm7+g9JQNJ5yzv4Ddesfq/9Y/Y6oXuyXr1j+A7D1fOVnBP1Am8W4icJi/wH3BEtsenL9Aroa0jNW6v9BldOiNVLW/LG+wsxcz2j+o/HW3Sh3Dv6lxPgZmL9Y/qiXBV+n/3D9wQmnkpZDQP9Ck5S0EvLO/QAaI7mANyz821/j6V4XLP9BLyep32bC/PcuVeIN/1T/YONnAXZm/P4DPBd+YRqy/yGiVL1TWuj+UQ5dqt9bEP4COKVTlG80/GBbPI3of0D9qmbz302PYP5CbbA4Vtrk/sPB3R0VbvT/4zktKfnXKP4BX2OgnrY6/eOlJL44Mwz/m0UfFmSXCP/ZfYS2zMc0/YCwcbfrYqr8ANnqH3Ehvv1pvO1MY2cw/f//Z1+cE0D9AdhyINpWBvxxtYx4IXcM/0LlnvmMSn78AlBUnOn9iPxrmeFnMO9Q/yLs2SLp0yD8IRrSCpcnXP1h8DdBebcC/bD6sf6tet788WG4jiQ/GP5CcaqTHuMw/YOcO6cjEp79eBT3FyNDBP5T885ygxsM/APtYS0eorj+WJp1fq37XP0B0m5MHdZ6/4C/mHnKiqz/6n+sfWJjHP3C3PrVGm6w/IOdO8MofkT/SrxnHKGPQP+BmV+D9CZa/EILYvdEizj9WCswPLKraPw54nYgUtbk/VD82grkgwj9YNo4vLZ+xP4cSEvQER9I/6l1jGsSs0T8IaiwfFkfJP7TD4RxdztY/GAqutxGO2j8gaElb7iOYv3p2sMI+0do/vdVwuJMf0z+QzY3cFRmkv8RmUbaaY88/dNO38X7R3T/gWZJewkaJv3AmRzPUPrc/wIe1+4UkvL9wsa7bSxKZvxDdatqbOKy/4Ky4v63twD98enaSVVanP9rrS4Ga/NA/lJJlcg+w1D9layi7tx3YP+g6WHuzCdE/KLsFbAgMyz/saZHRhjnbP3hmeN+rC7k/qFsIp+Vqvj+ugXCZM0fTPxpoWaRumtQ/ZpwuK3g63D/Y8DDTXBy9P24ehJbzGtU/IEuuf5rxpj9kJjhM/9nBv0AYNx0XAH0/6AOGBBsCwT+wx8WnTFKxP4ByuDB7lKA/uHuCEBClxT9KD1WLqgnSP8BgbMuK5ro//p4Y9bMHyD8AOrXlVTmlvxCpmJjIrME/nm+7uX341D8YUcmGrJGtP+QMBTeJJtE/KH3ML/xWzz8iB0OCTwq8vwBQP44m1m6/DM3M38Z71T8KuRqMnxjSP9hTNZcEzdQ/WnSvcp/+1j+9jKTSbPLRP6S8Sytxwb8/AIjaTDsaYz/SySxf0kjbP+pj7U6KhaM/EGE41oTi0j8ggJfPqCSsv/Ss2wSvXrM/nFyY4fenwj/ACXXiyku7vzBs/KbKNK0/LoEOMCF4w7/IY8RU3ra1v/CwVwWod6K/EZybxFKouL8aKabsJ/HVPyAs0X/deaw/iFMAbPKfsr8ArNpo4AJpv+CnXtnQi5q/OWwGvfrf1D+QmmidkAbIP6CrGgEzI8M/dBOcvLVF0T+qLpszz8fcPyw9JF22SMU/jSm1YQym1j9foW0Ya6TYPyYGrmZcCdg/PGhBcRTB3T/s1BKOYwrHP3Tsjhg+hdY/6L3PsKNjwD9LWRJjAGjTP/kBVQIIErc/sLfNzE9Bwz94y6XzyMDGP0jleXGzrsU/fDEvkFs/2D9uMn5V3WHTP2z5rtjRcLE/LcFylZe11D+Yq6K5J6W7v5CZlxbgWLI/hHLrzr4O1j8IAd7wF/XQPwA20WX3HVc/Zv9nm51mzz8A6PbOEjqsvyBV8xuDqKE/JE/ayQ5sxL9AOAkTQd5yP2KGh5uUi9E/+FjktBkYyj9lksaGmzXSPwiAXmAk8Lo/qFBBQKI1yT9AyaUc2Ll6P4wh/slOs70/rDt3VfMXzT9ZwVwgyJvSP/y9fXnfus8/tC8vNTkEyT/wUgkPA4+sv/P0UMILuNk/kLW9CKrXvL+ALzsspUOUP+iVNP4Z6sk/8NDNAG2psT94zvn9jLPPPwBgiu/rZTa/gJbQiwvWoz/aWZ5KazjYP9DqPAKVkdA/6Fj3W9rApz9w8HhAOYW7P1DartUJmLs/EGor+EQ+oT/QuelQERbVP/DJ4VArPNE/wI5Tq3Baoz+DUVrwV27YP5DKA5gmALI/0CMh1aYatD8AgKzCfpEtP7uv6hIBAto/MJ65monLuL/APrloewuFP4BWRsjGP4U/AHw6fHrQgj8=\",\"dtype\":\"float64\",\"shape\":[256]}},\"selected\":{\"id\":\"1312\",\"type\":\"Selection\"},\"selection_policy\":{\"id\":\"1313\",\"type\":\"UnionRenderers\"}},\"id\":\"1003\",\"type\":\"ColumnDataSource\"},{\"attributes\":{\"days\":[1,8,15,22]},\"id\":\"1279\",\"type\":\"DaysTicker\"},{\"attributes\":{},\"id\":\"1285\",\"type\":\"YearsTicker\"},{\"attributes\":{\"months\":[0,4,8]},\"id\":\"1283\",\"type\":\"MonthsTicker\"},{\"attributes\":{},\"id\":\"1356\",\"type\":\"UnionRenderers\"},{\"attributes\":{\"callback\":null,\"data\":{\"x\":[0.3],\"y\":[0]},\"selected\":{\"id\":\"1645\",\"type\":\"Selection\"},\"selection_policy\":{\"id\":\"1646\",\"type\":\"UnionRenderers\"}},\"id\":\"1570\",\"type\":\"ColumnDataSource\"},{\"attributes\":{\"source\":{\"id\":\"1007\",\"type\":\"ColumnDataSource\"}},\"id\":\"1558\",\"type\":\"CDSView\"},{\"attributes\":{},\"id\":\"1355\",\"type\":\"Selection\"},{\"attributes\":{\"line_alpha\":0.1,\"line_color\":\"#1f77b4\",\"x\":{\"field\":\"freq\"},\"y\":{\"field\":\"vals\"}},\"id\":\"1555\",\"type\":\"Line\"},{\"attributes\":{\"angle\":{\"units\":\"rad\",\"value\":1.5707963267948966},\"length\":{\"units\":\"data\",\"value\":1},\"line_color\":{\"value\":\"#1f77b4\"},\"x\":{\"field\":\"x\"},\"y\":{\"field\":\"y\"}},\"id\":\"1571\",\"type\":\"Ray\"},{\"attributes\":{\"ticker\":{\"id\":\"1241\",\"type\":\"DatetimeTicker\"}},\"id\":\"1244\",\"type\":\"Grid\"},{\"attributes\":{\"bottom_units\":\"screen\",\"fill_alpha\":{\"value\":0.5},\"fill_color\":{\"value\":\"lightgrey\"},\"left_units\":\"screen\",\"level\":\"overlay\",\"line_alpha\":{\"value\":1.0},\"line_color\":{\"value\":\"black\"},\"line_dash\":[4,4],\"line_width\":{\"value\":2},\"render_mode\":\"css\",\"right_units\":\"screen\",\"top_units\":\"screen\"},\"id\":\"1286\",\"type\":\"BoxAnnotation\"},{\"attributes\":{\"line_alpha\":0.2,\"line_color\":\"forestgreen\",\"x\":{\"field\":\"freq\"},\"y\":{\"field\":\"vals\"}},\"id\":\"1556\",\"type\":\"Line\"},{\"attributes\":{\"base\":60,\"mantissas\":[1,2,5,10,15,20,30],\"max_interval\":1800000.0,\"min_interval\":1000.0,\"num_minor_ticks\":0},\"id\":\"1275\",\"type\":\"AdaptiveTicker\"},{\"attributes\":{},\"id\":\"1050\",\"type\":\"BasicTickFormatter\"},{\"attributes\":{\"label\":{\"value\":\"detided_mod\"},\"renderers\":[{\"id\":\"1557\",\"type\":\"GlyphRenderer\"}]},\"id\":\"1569\",\"type\":\"LegendItem\"},{\"attributes\":{\"callback\":null,\"data\":{\"text\":[\"\\u03c3 = 1\",\"\\u03b3\\u00b2 = 2\"],\"x\":[0.48,0.48],\"y\":[1.3,1]},\"selected\":{\"id\":\"1647\",\"type\":\"Selection\"},\"selection_policy\":{\"id\":\"1648\",\"type\":\"UnionRenderers\"}},\"id\":\"1588\",\"type\":\"ColumnDataSource\"},{\"attributes\":{\"mantissas\":[1,2,5],\"max_interval\":500.0,\"num_minor_ticks\":0},\"id\":\"1052\",\"type\":\"AdaptiveTicker\"},{\"attributes\":{\"days\":[1,4,7,10,13,16,19,22,25,28]},\"id\":\"1056\",\"type\":\"DaysTicker\"},{\"attributes\":{\"base\":60,\"mantissas\":[1,2,5,10,15,20,30],\"max_interval\":1800000.0,\"min_interval\":1000.0,\"num_minor_ticks\":0},\"id\":\"1053\",\"type\":\"AdaptiveTicker\"},{\"attributes\":{\"days\":[1,8,15,22]},\"id\":\"1057\",\"type\":\"DaysTicker\"},{\"attributes\":{\"days\":[1,2,3,4,5,6,7,8,9,10,11,12,13,14,15,16,17,18,19,20,21,22,23,24,25,26,27,28,29,30,31]},\"id\":\"1055\",\"type\":\"DaysTicker\"},{\"attributes\":{\"base\":24,\"mantissas\":[1,2,4,6,8,12],\"max_interval\":43200000.0,\"min_interval\":3600000.0,\"num_minor_ticks\":0},\"id\":\"1054\",\"type\":\"AdaptiveTicker\"}],\"root_ids\":[\"1862\"]},\"title\":\"Bokeh Application\",\"version\":\"1.4.0\"}};\n",
       "  var render_items = [{\"docid\":\"4c110f61-253a-437d-99fd-d59db3fc34d3\",\"roots\":{\"1862\":\"ddaaf955-ebbe-4f91-9a5f-7ad9827b9937\"}}];\n",
       "  root.Bokeh.embed.embed_items_notebook(docs_json, render_items);\n",
       "\n",
       "  }\n",
       "  if (root.Bokeh !== undefined) {\n",
       "    embed_document(root);\n",
       "  } else {\n",
       "    var attempts = 0;\n",
       "    var timer = setInterval(function(root) {\n",
       "      if (root.Bokeh !== undefined) {\n",
       "        clearInterval(timer);\n",
       "        embed_document(root);\n",
       "      } else {\n",
       "        attempts++;\n",
       "        if (attempts > 100) {\n",
       "          clearInterval(timer);\n",
       "          console.log(\"Bokeh: ERROR: Unable to run BokehJS code because BokehJS library is missing\");\n",
       "        }\n",
       "      }\n",
       "    }, 10, root)\n",
       "  }\n",
       "})(window);"
      ],
      "application/vnd.bokehjs_exec.v0+json": ""
     },
     "metadata": {
      "application/vnd.bokehjs_exec.v0+json": {
       "id": "1862"
      }
     },
     "output_type": "display_data"
    }
   ],
   "source": [
    "column_layout = column(p_lone, p_double, p_fft)\n",
    "show(column_layout)"
   ]
  },
  {
   "cell_type": "code",
   "execution_count": null,
   "metadata": {},
   "outputs": [],
   "source": []
  }
 ],
 "metadata": {
  "kernelspec": {
   "display_name": "Python 3",
   "language": "python",
   "name": "python3"
  },
  "language_info": {
   "codemirror_mode": {
    "name": "ipython",
    "version": 3
   },
   "file_extension": ".py",
   "mimetype": "text/x-python",
   "name": "python",
   "nbconvert_exporter": "python",
   "pygments_lexer": "ipython3",
   "version": "3.8.1"
  }
 },
 "nbformat": 4,
 "nbformat_minor": 4
}
