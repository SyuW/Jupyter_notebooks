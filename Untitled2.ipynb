{
 "cells": [
  {
   "cell_type": "code",
   "execution_count": null,
   "metadata": {},
   "outputs": [],
   "source": [
    "def loop_decorator(loop_func, condition):\n",
    "    \n",
    "    def a():\n",
    "        print(\"Do this\")\n",
    "\n",
    "    def b():\n",
    "        print(\"Do this\")\n",
    "        \n",
    "    def wrapper():\n",
    "        if condition == \"a\":\n",
    "            a()\n",
    "        if condition == \"b\":\n",
    "            b()\n",
    "    \n",
    "    return wrapper()"
   ]
  },
  {
   "cell_type": "code",
   "execution_count": null,
   "metadata": {},
   "outputs": [],
   "source": [
    "def main(condition):\n",
    "    \n",
    "    for x in range(10):\n",
    "        "
   ]
  }
 ],
 "metadata": {
  "kernelspec": {
   "display_name": "Python 3",
   "language": "python",
   "name": "python3"
  },
  "language_info": {
   "codemirror_mode": {
    "name": "ipython",
    "version": 3
   },
   "file_extension": ".py",
   "mimetype": "text/x-python",
   "name": "python",
   "nbconvert_exporter": "python",
   "pygments_lexer": "ipython3",
   "version": "3.7.3"
  }
 },
 "nbformat": 4,
 "nbformat_minor": 2
}
